{
 "cells": [
  {
   "cell_type": "markdown",
   "metadata": {
    "ein.tags": "worksheet-0",
    "slideshow": {
     "slide_type": "-"
    }
   },
   "source": [
    "# Abstract"
   ]
  },
  {
   "cell_type": "markdown",
   "metadata": {
    "ein.tags": "worksheet-0",
    "slideshow": {
     "slide_type": "-"
    }
   },
   "source": [
    "Voltage-sensitive dye imaging (VSDi) has revealed fundamental properties of neocortical processing at macroscopic scales. Since for each pixel VSDi signals report the average membrane potential over hundreds of neurons, it seems natural to use a mean-field formalism to model such signals. Here, we present a mean-field model of networks of Adaptive Exponential (AdEx) integrate-and-fire neurons, with conductance-based synaptic interactions. We study a network of regular-spiking (RS) excitatory neurons and fast-spiking (FS) inhibitory neurons. We use a Master Equation formalism, together with a semi-analytic approach to the transfer function of AdEx neurons to describe the average dynamics of the coupled populations. We compare the predictions of this mean-field model to simulated networks of RS-FS cells, first at the level of the spontaneous activity of the network, which is well predicted by the analytical description. Second, we investigate the response of the network to time-varying external input, and show that the mean-field model predicts the response time course of the population. Finally, to model VSDi signals, we consider a one-dimensional ring model made of interconnected RS-FS mean-field units. We found that this model can reproduce the spatio-temporal patterns seen in VSDi of awake monkey visual cortex as a response to local and transient visual stimuli. Conversely, we show that the model allows one to infer physiological parameters from the experimentally-recorded spatio-temporal patterns."
   ]
  },
  {
   "cell_type": "code",
   "execution_count": null,
   "metadata": {
    "autoscroll": false,
    "collapsed": false,
    "ein.tags": "worksheet-0",
    "slideshow": {
     "slide_type": "-"
    }
   },
   "outputs": [],
   "source": [
    "\"\"\"\n",
    "Designing an analysis that can evidence a faster integration of afferent\n",
    "input when activity raises\n",
    "\n",
    "\n",
    "-- DEPENDENCIES : numpy, matplotlib, scipy\n",
    "get a full features Scientific Python distribution at :\n",
    "https://www.continuum.io/downloads\n",
    "\"\"\"\n"
   ]
  },
  {
   "cell_type": "code",
   "execution_count": 1,
   "metadata": {
    "autoscroll": false,
    "collapsed": false,
    "ein.tags": "worksheet-0",
    "slideshow": {
     "slide_type": "-"
    }
   },
   "outputs": [],
   "source": [
    "\"\"\"\n",
    "Empty notebook, proper version will be uploaded after acceptance\n",
    "\"\"\"\n",
    "%matplotlib inline\n",
    "\n",
    "# the code is in the \"modeling_mesoscopic_dynamics\" folder\n"
   ]
  },
  {
   "cell_type": "markdown",
   "metadata": {
    "ein.tags": "worksheet-0",
    "slideshow": {
     "slide_type": "-"
    }
   },
   "source": [
    "### Transfer Functions of Single Cell Models (within a given network setting)"
   ]
  },
  {
   "cell_type": "markdown",
   "metadata": {
    "ein.tags": "worksheet-0",
    "slideshow": {
     "slide_type": "-"
    }
   },
   "source": [
    "Here, we build up the description of the single cell computation within the mean-field formalism"
   ]
  },
  {
   "cell_type": "markdown",
   "metadata": {
    "ein.tags": "worksheet-0",
    "slideshow": {
     "slide_type": "-"
    }
   },
   "source": [
    "#### Excitatory cells: RS cells"
   ]
  },
  {
   "cell_type": "code",
   "execution_count": 2,
   "metadata": {
    "autoscroll": false,
    "collapsed": false,
    "ein.tags": "worksheet-0",
    "slideshow": {
     "slide_type": "-"
    }
   },
   "outputs": [
    {
     "name": "stdout",
     "output_type": "stream",
     "text": [
      "cell parameters --NOT-- in SI units\n",
      "{'a': 4.0, 'b': 20.0, 'Vreset': -65.0, 'delta_v': 2.0, 'Vthre': -50.0, 'Trefrac': 5.0, 'tauw': 500.0, 'name': 'RS-cell', 'Cm': 200.0, 'N': 1, 'Gl': 10.0, 'El': -65.0}\n"
     ]
    }
   ],
   "source": [
    "# the parameters are written within a library of neuron parameters\n",
    "from modeling_mesoscopic_dynamics.single_cell_models.cell_library import get_neuron_params\n",
    "RS_params = get_neuron_params('RS-cell', name='RS-cell', SI_units=False)\n",
    "print(RS_params)"
   ]
  },
  {
   "cell_type": "code",
   "execution_count": 3,
   "metadata": {
    "autoscroll": false,
    "collapsed": false,
    "ein.tags": "worksheet-0",
    "slideshow": {
     "slide_type": "-"
    }
   },
   "outputs": [
    {
     "data": {
      "text/plain": [
       "<matplotlib.figure.Figure at 0x1060f0a90>"
      ]
     },
     "metadata": {},
     "output_type": "display_data"
    },
    {
     "name": "stdout",
     "output_type": "stream",
     "text": [
      "cell parameters in SI units\n"
     ]
    }
   ],
   "source": [
    "# plotting the responses to current steps\n",
    "from modeling_mesoscopic_dynamics.single_cell_models.step_response import make_model_figure\n",
    "make_model_figure('RS-cell', I0=200e-12);"
   ]
  },
  {
   "cell_type": "code",
   "execution_count": 10,
   "metadata": {
    "autoscroll": false,
    "collapsed": false,
    "ein.tags": "worksheet-0",
    "slideshow": {
     "slide_type": "-"
    }
   },
   "outputs": [
    {
     "name": "stdout",
     "output_type": "stream",
     "text": [
      "numerical TF data saved in : data/RS-cell_CONFIG1.npy\r\n"
     ]
    },
    {
     "name": "stdout",
     "output_type": "stream",
     "text": [
      "cell parameters in SI units\r\n",
      "synaptic network parameters in SI units\r\n"
     ]
    }
   ],
   "source": [
    "# Now making the numerical simulations at various levels of both excitatory and inhibitory inputs\n",
    "# note the rescaling of the excitatory input to insure that the response remains in the <30 range: it focuses on low range when inhibition is low and on a larger range when inhibition is larger\n",
    "SEED, tstop, discret_Fe, discret_Fi = 3, 2, 3, 3 # for testing\n",
    "# SEED, tstop, discret_Fe, discret_Fi = 4, 10, 10, 10 # paper's value -> 5-10 minutes of evaluation\n",
    "!(python modeling_mesoscopic_dynamics/transfer_functions/tf_simulation.py RS-cell CONFIG1 -s --SEED $SEED --tstop $tstop --discret_Fe $discret_Fe  --discret_Fi $discret_Fi --max_Fe 30)"
   ]
  },
  {
   "cell_type": "code",
   "execution_count": 4,
   "metadata": {
    "autoscroll": false,
    "collapsed": false,
    "ein.tags": "worksheet-0",
    "slideshow": {
     "slide_type": "-"
    }
   },
   "outputs": [
    {
     "name": "stdout",
     "output_type": "stream",
     "text": [
      "Optimization terminated successfully.\n",
      "         Current function value: 0.041754\n",
      "         Iterations: 1087\n",
      "         Function evaluations: 1541\n",
      "==================================================\n",
      "[-54.7150805    7.64453782  -4.62722888   1.71283147  -0.10710902\n",
      "   0.72054481  -2.00463685   0.11756368   5.61325855  -0.99436164\n",
      "  -2.87604362] mV\n",
      "coefficients saved in  data/RS-cell_CONFIG1_fit.npy\n"
     ]
    },
    {
     "name": "stdout",
     "output_type": "stream",
     "text": [
      "Optimization terminated successfully.    (Exit mode 0)\n",
      "            Current function value: 7.33631085882e-08\n",
      "            Iterations: 9\n",
      "            Function evaluations: 120\n",
      "            Gradient evaluations: 9\n"
     ]
    }
   ],
   "source": [
    "from modeling_mesoscopic_dynamics.transfer_functions.theoretical_tools import make_fit_from_data\n",
    "P_RS = make_fit_from_data('data/RS-cell_CONFIG1.npy', with_square_terms=True, verbose=False)"
   ]
  },
  {
   "cell_type": "code",
   "execution_count": 5,
   "metadata": {
    "autoscroll": false,
    "collapsed": false,
    "ein.tags": "worksheet-0",
    "slideshow": {
     "slide_type": "-"
    }
   },
   "outputs": [
    {
     "data": {
      "text/plain": [
       "<matplotlib.figure.Figure at 0x101a6c940>"
      ]
     },
     "metadata": {},
     "output_type": "display_data"
    }
   ],
   "source": [
    "# now displaying the numerical values and the analytical function\n",
    "from modeling_mesoscopic_dynamics.transfer_functions.plots import make_exc_inh_fig\n",
    "make_exc_inh_fig('data/RS-cell_CONFIG1.npy', P=P_RS)"
   ]
  },
  {
   "cell_type": "markdown",
   "metadata": {
    "ein.tags": "worksheet-0",
    "slideshow": {
     "slide_type": "-"
    }
   },
   "source": [
    "#### Inhibitory cells: FS-cells"
   ]
  },
  {
   "cell_type": "code",
   "execution_count": 6,
   "metadata": {
    "autoscroll": false,
    "collapsed": false,
    "ein.tags": "worksheet-0",
    "slideshow": {
     "slide_type": "-"
    }
   },
   "outputs": [
    {
     "name": "stdout",
     "output_type": "stream",
     "text": [
      "cell parameters --NOT-- in SI units\n",
      "{'a': 0.0, 'b': 0.0, 'Vreset': -65.0, 'delta_v': 0.5, 'Vthre': -50.0, 'Trefrac': 5.0, 'tauw': 1000000000.0, 'name': 'FS-cell', 'Cm': 200.0, 'N': 1, 'Gl': 10.0, 'El': -65.0}\n"
     ]
    }
   ],
   "source": [
    "# the parameters are written within a library of neuron parameters\n",
    "from modeling_mesoscopic_dynamics.single_cell_models.cell_library import get_neuron_params\n",
    "FS_params = get_neuron_params('FS-cell', name='FS-cell', SI_units=False)\n",
    "print(FS_params)"
   ]
  },
  {
   "cell_type": "code",
   "execution_count": 7,
   "metadata": {
    "autoscroll": false,
    "collapsed": false,
    "ein.tags": "worksheet-0",
    "slideshow": {
     "slide_type": "-"
    }
   },
   "outputs": [
    {
     "data": {
      "text/plain": [
       "<matplotlib.figure.Figure at 0x10cbc0128>"
      ]
     },
     "metadata": {},
     "output_type": "display_data"
    },
    {
     "name": "stdout",
     "output_type": "stream",
     "text": [
      "cell parameters in SI units\n"
     ]
    }
   ],
   "source": [
    "# plotting the responses to current steps\n",
    "from modeling_mesoscopic_dynamics.single_cell_models.step_response import make_model_figure\n",
    "make_model_figure('FS-cell', I0=200e-12);"
   ]
  },
  {
   "cell_type": "code",
   "execution_count": null,
   "metadata": {
    "autoscroll": false,
    "collapsed": false,
    "ein.tags": "worksheet-0",
    "slideshow": {
     "slide_type": "-"
    }
   },
   "outputs": [],
   "source": [
    "# Now making the numerical simulations at various levels of both excitatory and inhibitory inputs\n",
    "# note the rescaling of the excitatory input to insure that the response remains in the <30 range: it focuses on low range when inhibition is low and on a larger range when inhibition is larger\n",
    "SEED, tstop, discret_Fe, discret_Fi = 3, 2, 3, 3 # for testing\n",
    "# SEED, tstop, discret_Fe, discret_Fi = 4, 10, 10, 10 # paper's value -> 5-10 minutes of evaluation\n",
    "!(python modeling_mesoscopic_dynamics/transfer_functions/tf_simulation.py FS-cell CONFIG1 -s --SEED $SEED --tstop $tstop --discret_Fe $discret_Fe  --discret_Fi $discret_Fi --max_Fe 30)"
   ]
  },
  {
   "cell_type": "code",
   "execution_count": 8,
   "metadata": {
    "autoscroll": false,
    "collapsed": false,
    "ein.tags": "worksheet-0",
    "slideshow": {
     "slide_type": "-"
    }
   },
   "outputs": [
    {
     "name": "stdout",
     "output_type": "stream",
     "text": [
      "Optimization terminated successfully.    (Exit mode 0)\n",
      "            Current function value: 7.65356746695e-08\n",
      "            Iterations: 7\n",
      "            Function evaluations: 92\n",
      "            Gradient evaluations: 7\n",
      "Optimization terminated successfully.\n",
      "         Current function value: 0.190404\n",
      "         Iterations: 731\n",
      "         Function evaluations: 1043\n",
      "==================================================\n",
      "[ -5.46160664e+01   4.58415750e+00  -1.77303201e+00   6.64785219e-01\n",
      "  -3.00637490e-01   3.93520293e-01  -5.14454957e-01  -6.39186948e-03\n",
      "  -1.39021341e+00  -4.85663596e-01  -3.63617754e-01] mV\n",
      "coefficients saved in  data/FS-cell_CONFIG1_fit.npy\n"
     ]
    }
   ],
   "source": [
    "from modeling_mesoscopic_dynamics.transfer_functions.theoretical_tools import make_fit_from_data\n",
    "P_FS = make_fit_from_data('data/FS-cell_CONFIG1.npy', with_square_terms=True, verbose=False)"
   ]
  },
  {
   "cell_type": "code",
   "execution_count": 9,
   "metadata": {
    "autoscroll": false,
    "collapsed": false,
    "ein.tags": "worksheet-0",
    "slideshow": {
     "slide_type": "-"
    }
   },
   "outputs": [
    {
     "data": {
      "text/plain": [
       "<matplotlib.figure.Figure at 0x10c8993c8>"
      ]
     },
     "metadata": {},
     "output_type": "display_data"
    }
   ],
   "source": [
    "# now displaying the numerical values and the analytical function\n",
    "from modeling_mesoscopic_dynamics.transfer_functions.plots import make_exc_inh_fig\n",
    "make_exc_inh_fig('data/FS-cell_CONFIG1.npy', P=P_FS)"
   ]
  },
  {
   "cell_type": "code",
   "execution_count": 6,
   "metadata": {
    "autoscroll": false,
    "collapsed": false,
    "ein.tags": "worksheet-0",
    "slideshow": {
     "slide_type": "-"
    }
   },
   "outputs": [
    {
     "name": "stdout",
     "output_type": "stream",
     "text": [
      "synaptic network parameters --NOT-- in SI units\n",
      "[[ {'name': 'ee', 'ext_drive': 4.0, 'Ntot': 10000, 'Q': 1.0, 'p_conn': 0.05, 'Erev': 0.0, 'gei': 0.2, 'afferent_exc_fraction': 1.0, 'Tsyn': 5.0}\n",
      "  {'name': 'ei', 'Tsyn': 5.0, 'Q': 1.0, 'p_conn': 0.05, 'Erev': 0.0}]\n",
      " [{'name': 'ie', 'Tsyn': 5.0, 'Q': 5.0, 'p_conn': 0.05, 'Erev': -80.0}\n",
      "  {'name': 'ii', 'Tsyn': 5.0, 'Q': 5.0, 'p_conn': 0.05, 'Erev': -80.0}]]\n"
     ]
    }
   ],
   "source": [
    "# Note that we also used the network parameters because it requires the synaptic properties (number of synapses)\n",
    "# they are stored in the following module\n",
    "from modeling_mesoscopic_dynamics.synapses_and_connectivity.syn_and_connec_library import get_connectivity_and_synapses_matrix\n",
    "print(get_connectivity_and_synapses_matrix('CONFIG1'))"
   ]
  },
  {
   "cell_type": "markdown",
   "metadata": {
    "ein.tags": "worksheet-0",
    "slideshow": {
     "slide_type": "-"
    }
   },
   "source": [
    "### Network dynamics: numerical simulations vs mean-field"
   ]
  },
  {
   "cell_type": "markdown",
   "metadata": {
    "ein.tags": "worksheet-0",
    "slideshow": {
     "slide_type": "-"
    }
   },
   "source": [
    "#### Stationary dynamics"
   ]
  },
  {
   "cell_type": "markdown",
   "metadata": {
    "ein.tags": "worksheet-0",
    "slideshow": {
     "slide_type": "-"
    }
   },
   "source": [
    "performing the numerical simulation with the Brian2 package !\n",
    "see http://brian2.readthedocs.io/"
   ]
  },
  {
   "cell_type": "code",
   "execution_count": 9,
   "metadata": {
    "autoscroll": false,
    "collapsed": false,
    "ein.tags": "worksheet-0",
    "slideshow": {
     "slide_type": "-"
    }
   },
   "outputs": [
    {
     "name": "stdout",
     "output_type": "stream",
     "text": [
      "INFO       No numerical integration method specified for group 'neurongroup', using method 'euler' (took 0.03s, trying other methods took 0.17s). [brian2.stateupdaters.base.method_choice]\r\n"
     ]
    },
    {
     "name": "stdout",
     "output_type": "stream",
     "text": [
      "INFO       No numerical integration method specified for group 'neurongroup_1', using method 'euler' (took 0.06s, trying other methods took 0.18s). [brian2.stateupdaters.base.method_choice]\r\n"
     ]
    },
    {
     "name": "stdout",
     "output_type": "stream",
     "text": [
      "\r\n",
      "        dV/dt = (10.000000*nS*(-65.000000*mV - V) + 10.000000*nS*2.000000*mV*exp(-(-50.000000*mV-V)/(2.000000*mV)) + I - w_adapt)/(200.000000*pF) : volt (unless refractory) \r\n",
      "        dw_adapt/dt = ( -4.000000*nS*( -65.000000*mV - V) - w_adapt )/(500.000000*ms) : amp  \r\n",
      "        I = I0 +Gee*(0.000000*mV - V)+Gie*(-80.000000*mV - V) : amp\r\n",
      "        dGee/dt = -Gee*(1./(5.000000*ms)) : siemens\r\n",
      "        dGie/dt = -Gie*(1./(5.000000*ms)) : siemens\r\n",
      "        I0 : amp \r\n",
      "cell parameters --NOT-- in SI units\r\n",
      "\r\n",
      "        dV/dt = (10.000000*nS*(-65.000000*mV - V) + 10.000000*nS*0.500000*mV*exp(-(-50.000000*mV-V)/(0.500000*mV)) + I - w_adapt)/(200.000000*pF) : volt (unless refractory) \r\n",
      "        dw_adapt/dt = ( -0.000000*nS*( -65.000000*mV - V) - w_adapt )/(1000000000.000000*ms) : amp  \r\n",
      "        I = I0 +Gei*(0.000000*mV - V)+Gii*(-80.000000*mV - V) : amp\r\n",
      "        dGei/dt = -Gei*(1./(5.000000*ms)) : siemens\r\n",
      "        dGii/dt = -Gii*(1./(5.000000*ms)) : siemens\r\n",
      "        I0 : amp \r\n"
     ]
    },
    {
     "name": "stdout",
     "output_type": "stream",
     "text": [
      "synaptic network parameters --NOT-- in SI units\r\n",
      "cell parameters --NOT-- in SI units\r\n"
     ]
    }
   ],
   "source": [
    "!(python modeling_mesoscopic_dynamics/network_simulations/ntwk_sim_demo.py --CONFIG RS-cell--FS-cell--CONFIG1 -f data/config1.py)"
   ]
  },
  {
   "cell_type": "code",
   "execution_count": 10,
   "metadata": {
    "autoscroll": false,
    "collapsed": false,
    "ein.tags": "worksheet-0",
    "slideshow": {
     "slide_type": "-"
    }
   },
   "outputs": [
    {
     "data": {
      "text/plain": [
       "<matplotlib.figure.Figure at 0x10cb8c940>"
      ]
     },
     "metadata": {},
     "output_type": "display_data"
    },
    {
     "data": {
      "text/plain": [
       "<matplotlib.figure.Figure at 0x10cb768d0>"
      ]
     },
     "metadata": {},
     "output_type": "display_data"
    },
    {
     "data": {
      "text/plain": [
       "<matplotlib.figure.Figure at 0x10d1cd630>"
      ]
     },
     "metadata": {},
     "output_type": "display_data"
    },
    {
     "data": {
      "text/plain": [
       "<matplotlib.figure.Figure at 0x10cbabda0>"
      ]
     },
     "metadata": {},
     "output_type": "display_data"
    }
   ],
   "source": [
    "# showing the ouput of the simulations\n",
    "%matplotlib inline\n",
    "from modeling_mesoscopic_dynamics.network_simulations.plot_single_sim import plot_ntwk_sim_output\n",
    "DATA = np.load('data/config1.npy')\n",
    "%matplotlib inline\n",
    "AX, FIG = plot_ntwk_sim_output(*DATA,\\\n",
    "                               zoom_conditions=[0,1000], bar_ms=100,\\\n",
    "                               raster_number=500)"
   ]
  },
  {
   "cell_type": "code",
   "execution_count": 11,
   "metadata": {
    "autoscroll": false,
    "collapsed": false,
    "ein.tags": "worksheet-0",
    "slideshow": {
     "slide_type": "-"
    }
   },
   "outputs": [
    {
     "data": {
      "text/plain": [
       "<matplotlib.figure.Figure at 0x106bfd358>"
      ]
     },
     "metadata": {},
     "output_type": "display_data"
    },
    {
     "data": {
      "text/plain": [
       "<matplotlib.figure.Figure at 0x10685beb8>"
      ]
     },
     "metadata": {},
     "output_type": "display_data"
    },
    {
     "data": {
      "text/plain": [
       "<matplotlib.figure.Figure at 0x106d3acc0>"
      ]
     },
     "metadata": {},
     "output_type": "display_data"
    },
    {
     "name": "stdout",
     "output_type": "stream",
     "text": [
      "Make sure that those two values are similar !!\n",
      "[ 2.42134221  9.62763885  0.09698788  0.11677506  0.25238966]\n",
      "[ 2.42134221  9.62763885  0.09698788  0.11677506  0.25238966]\n",
      "[ 2.42134221  9.62763885  0.09698788  0.11677506  0.25238966]\n",
      "first order prediction:  0.252389662129\n",
      "end fixed point\n"
     ]
    },
    {
     "name": "stdout",
     "output_type": "stream",
     "text": [
      "cell parameters in SI units\n",
      "synaptic network parameters in SI units\n",
      "starting fixed point\n",
      "synaptic network parameters in SI units\n",
      "cell parameters in SI units\n",
      "cell parameters in SI units\n",
      "first order prediction:  [ 2.41797829  9.6031657 ]\n",
      "synaptic network parameters in SI units\n",
      "cell parameters in SI units\n",
      "cell parameters in SI units\n"
     ]
    }
   ],
   "source": [
    "# now comparing the simulation with the mean-field\n",
    "from modeling_mesoscopic_dynamics.network_simulations.compare_with_mean_field import plot_ntwk_sim_output\n",
    "FIG = plot_ntwk_sim_output(*DATA, min_time=500) # we discard the initial 500ms to evaluate the dynamics\n",
    "# the fixed point of the mean field is found by launching a trajectory\n",
    "# of the mean-field dynamical system and taking the point of convergence\n",
    "# see modeling_mesoscopic_dynamics/mean_field"
   ]
  },
  {
   "cell_type": "markdown",
   "metadata": {
    "ein.tags": "worksheet-0",
    "slideshow": {
     "slide_type": "-"
    }
   },
   "source": [
    "#### Time-varying dynamics"
   ]
  },
  {
   "cell_type": "code",
   "execution_count": 8,
   "metadata": {
    "autoscroll": false,
    "collapsed": false,
    "ein.tags": "worksheet-0",
    "slideshow": {
     "slide_type": "-"
    }
   },
   "outputs": [
    {
     "name": "stdout",
     "output_type": "stream",
     "text": [
      "synaptic network parameters --NOT-- in SI units\r\n",
      "synaptic network parameters --NOT-- in SI units\r\n",
      "cell parameters --NOT-- in SI units\r\n"
     ]
    },
    {
     "name": "stdout",
     "output_type": "stream",
     "text": [
      "\r\n",
      "        dV/dt = (10.000000*nS*(-65.000000*mV - V) + 10.000000*nS*2.000000*mV*exp(-(-50.000000*mV-V)/(2.000000*mV)) + I - w_adapt)/(200.000000*pF) : volt (unless refractory) \r\n",
      "        dw_adapt/dt = ( -4.000000*nS*( -65.000000*mV - V) - w_adapt )/(500.000000*ms) : amp  \r\n",
      "        I = I0 +Gee*(0.000000*mV - V)+Gie*(-80.000000*mV - V) : amp\r\n",
      "        dGee/dt = -Gee*(1./(5.000000*ms)) : siemens\r\n",
      "        dGie/dt = -Gie*(1./(5.000000*ms)) : siemens\r\n",
      "        I0 : amp \r\n",
      "cell parameters --NOT-- in SI units\r\n",
      "\r\n",
      "        dV/dt = (10.000000*nS*(-65.000000*mV - V) + 10.000000*nS*0.500000*mV*exp(-(-50.000000*mV-V)/(0.500000*mV)) + I - w_adapt)/(200.000000*pF) : volt (unless refractory) \r\n",
      "        dw_adapt/dt = ( -0.000000*nS*( -65.000000*mV - V) - w_adapt )/(1000000000.000000*ms) : amp  \r\n",
      "        I = I0 +Gei*(0.000000*mV - V)+Gii*(-80.000000*mV - V) : amp\r\n",
      "        dGei/dt = -Gei*(1./(5.000000*ms)) : siemens\r\n",
      "        dGii/dt = -Gii*(1./(5.000000*ms)) : siemens\r\n",
      "        I0 : amp \r\n"
     ]
    },
    {
     "name": "stdout",
     "output_type": "stream",
     "text": [
      "INFO       No numerical integration method specified for group 'neurongroup_1', using method 'euler' (took 0.05s, trying other methods took 0.17s). [brian2.stateupdaters.base.method_choice]\r\n"
     ]
    },
    {
     "name": "stdout",
     "output_type": "stream",
     "text": [
      "INFO       No numerical integration method specified for group 'neurongroup', using method 'euler' (took 0.03s, trying other methods took 0.16s). [brian2.stateupdaters.base.method_choice]\r\n"
     ]
    }
   ],
   "source": [
    "# running simulation\n",
    "!(python modeling_mesoscopic_dynamics/network_simulations/waveform_input.py --CONFIG RS-cell--FS-cell--CONFIG1 -f data/waveform.npy --sim)"
   ]
  },
  {
   "cell_type": "code",
   "execution_count": 13,
   "metadata": {
    "autoscroll": false,
    "collapsed": false,
    "ein.tags": "worksheet-0",
    "slideshow": {
     "slide_type": "-"
    }
   },
   "outputs": [
    {
     "data": {
      "text/plain": [
       "<matplotlib.figure.Figure at 0x1142d1940>"
      ]
     },
     "metadata": {},
     "output_type": "display_data"
    },
    {
     "data": {
      "text/plain": [
       "<matplotlib.figure.Figure at 0x1140920f0>"
      ]
     },
     "metadata": {},
     "output_type": "display_data"
    },
    {
     "data": {
      "text/plain": [
       "<matplotlib.figure.Figure at 0x10e8973c8>"
      ]
     },
     "metadata": {},
     "output_type": "display_data"
    },
    {
     "data": {
      "text/plain": [
       "<matplotlib.figure.Figure at 0x10ce062b0>"
      ]
     },
     "metadata": {},
     "output_type": "display_data"
    },
    {
     "ename": "TypeError",
     "evalue": "slice indices must be integers or None or have an __index__ method",
     "output_type": "error",
     "traceback": [
      "\u001b[0;31m---------------------------------------------------------------------------\u001b[0m",
      "\u001b[0;31mTypeError\u001b[0m                                 Traceback (most recent call last)",
      "\u001b[0;32m/Users/yzerlaut/work/notebook_papers/modeling_mesoscopic_dynamics/network_simulations/waveform_input.py\u001b[0m in \u001b[0;36m<module>\u001b[0;34m()\u001b[0m\n\u001b[1;32m     96\u001b[0m         FIGS = plot_ntwk_sim_output_for_waveform(args,\n\u001b[1;32m     97\u001b[0m                                        \u001b[0mzoom_conditions\u001b[0m\u001b[0;34m=\u001b[0m\u001b[0;34m[\u001b[0m\u001b[0margs\u001b[0m\u001b[0;34m.\u001b[0m\u001b[0mt0\u001b[0m\u001b[0;34m-\u001b[0m\u001b[0;36m5\u001b[0m\u001b[0;34m*\u001b[0m\u001b[0margs\u001b[0m\u001b[0;34m.\u001b[0m\u001b[0mT1\u001b[0m\u001b[0;34m,\u001b[0m \u001b[0margs\u001b[0m\u001b[0;34m.\u001b[0m\u001b[0mtstop\u001b[0m\u001b[0;34m]\u001b[0m\u001b[0;34m,\u001b[0m\u001b[0;31m\\\u001b[0m\u001b[0;34m\u001b[0m\u001b[0m\n\u001b[0;32m---> 98\u001b[0;31m                                        raster_number=400)\n\u001b[0m\u001b[1;32m     99\u001b[0m \u001b[0;34m\u001b[0m\u001b[0m\n\u001b[1;32m    100\u001b[0m         \u001b[0mplt\u001b[0m\u001b[0;34m.\u001b[0m\u001b[0mshow\u001b[0m\u001b[0;34m(\u001b[0m\u001b[0;34m)\u001b[0m\u001b[0;34m\u001b[0m\u001b[0m\n",
      "\u001b[0;32m/Users/yzerlaut/work/notebook_papers/modeling_mesoscopic_dynamics/network_simulations/compare_with_mean_field.py\u001b[0m in \u001b[0;36mplot_ntwk_sim_output_for_waveform\u001b[0;34m(args, BIN, min_time, bar_ms, zoom_conditions, vpeak, raster_number)\u001b[0m\n\u001b[1;32m    277\u001b[0m     \u001b[0mFIGS\u001b[0m\u001b[0;34m.\u001b[0m\u001b[0mappend\u001b[0m\u001b[0;34m(\u001b[0m\u001b[0mfig\u001b[0m\u001b[0;34m)\u001b[0m\u001b[0;34m\u001b[0m\u001b[0m\n\u001b[1;32m    278\u001b[0m \u001b[0;34m\u001b[0m\u001b[0m\n\u001b[0;32m--> 279\u001b[0;31m     \u001b[0mprint\u001b[0m\u001b[0;34m(\u001b[0m\u001b[0;34m'excitatory rate: '\u001b[0m\u001b[0;34m,\u001b[0m \u001b[0mrate_exc\u001b[0m\u001b[0;34m[\u001b[0m\u001b[0mlen\u001b[0m\u001b[0;34m(\u001b[0m\u001b[0mrate_exc\u001b[0m\u001b[0;34m)\u001b[0m\u001b[0;34m/\u001b[0m\u001b[0;36m2\u001b[0m\u001b[0;34m:\u001b[0m\u001b[0;34m]\u001b[0m\u001b[0;34m.\u001b[0m\u001b[0mmean\u001b[0m\u001b[0;34m(\u001b[0m\u001b[0;34m)\u001b[0m\u001b[0;34m,\u001b[0m \u001b[0;34m'Hz'\u001b[0m\u001b[0;34m)\u001b[0m\u001b[0;34m\u001b[0m\u001b[0m\n\u001b[0m\u001b[1;32m    280\u001b[0m     \u001b[0mprint\u001b[0m\u001b[0;34m(\u001b[0m\u001b[0;34m'inhibitory rate: '\u001b[0m\u001b[0;34m,\u001b[0m \u001b[0mrate_inh\u001b[0m\u001b[0;34m[\u001b[0m\u001b[0mlen\u001b[0m\u001b[0;34m(\u001b[0m\u001b[0mrate_exc\u001b[0m\u001b[0;34m)\u001b[0m\u001b[0;34m/\u001b[0m\u001b[0;36m2\u001b[0m\u001b[0;34m:\u001b[0m\u001b[0;34m]\u001b[0m\u001b[0;34m.\u001b[0m\u001b[0mmean\u001b[0m\u001b[0;34m(\u001b[0m\u001b[0;34m)\u001b[0m\u001b[0;34m,\u001b[0m \u001b[0;34m'Hz'\u001b[0m\u001b[0;34m)\u001b[0m\u001b[0;34m\u001b[0m\u001b[0m\n\u001b[1;32m    281\u001b[0m     \u001b[0mprint\u001b[0m\u001b[0;34m(\u001b[0m\u001b[0msfe\u001b[0m\u001b[0;34m[\u001b[0m\u001b[0;36m0\u001b[0m\u001b[0;34m]\u001b[0m\u001b[0;34m,\u001b[0m \u001b[0msfe\u001b[0m\u001b[0;34m[\u001b[0m\u001b[0;34m-\u001b[0m\u001b[0;36m1\u001b[0m\u001b[0;34m]\u001b[0m\u001b[0;34m)\u001b[0m\u001b[0;34m\u001b[0m\u001b[0m\n",
      "\u001b[0;31mTypeError\u001b[0m: slice indices must be integers or None or have an __index__ method"
     ]
    },
    {
     "name": "stdout",
     "output_type": "stream",
     "text": [
      "cell parameters in SI units\n",
      "synaptic network parameters in SI units\n"
     ]
    },
    {
     "name": "stdout",
     "output_type": "stream",
     "text": [
      "Make sure that those two values are similar !!\n",
      "[ 2.42134221  9.62763885  0.09698788  0.11677506  0.25238966]\n",
      "[ 2.42134221  9.62763885  0.09698788  0.11677506  0.25238966]\n",
      "[ 2.42134221  9.62763885  0.09698788  0.11677506  0.25238966]\n",
      "first order prediction:  0.252389662129\n",
      "synaptic network parameters in SI units\n",
      "cell parameters in SI units\n",
      "cell parameters in SI units\n"
     ]
    },
    {
     "name": "stdout",
     "output_type": "stream",
     "text": [
      "synaptic network parameters in SI units\n",
      "synaptic network parameters in SI units\n",
      "cell parameters in SI units\n",
      "cell parameters in SI units\n",
      "first order prediction:  [ 2.41797829  9.6031657 ]\n",
      "synaptic network parameters in SI units\n",
      "cell parameters in SI units\n",
      "cell parameters in SI units\n"
     ]
    }
   ],
   "source": [
    "# comparing with the time-varying mean-field\n",
    "# again the dynamical system is implemented in modeling_mesoscopic_dynamics/mean_field\n",
    "%run modeling_mesoscopic_dynamics/network_simulations/waveform_input.py --CONFIG RS-cell--FS-cell--CONFIG1 -f data/waveform.npy"
   ]
  },
  {
   "cell_type": "markdown",
   "metadata": {
    "ein.tags": "worksheet-0",
    "slideshow": {
     "slide_type": "-"
    }
   },
   "source": [
    "## Spatial model"
   ]
  },
  {
   "cell_type": "markdown",
   "metadata": {
    "ein.tags": "worksheet-0",
    "slideshow": {
     "slide_type": "-"
    }
   },
   "source": [
    "#### baseline configuration"
   ]
  },
  {
   "cell_type": "code",
   "execution_count": 14,
   "metadata": {
    "autoscroll": false,
    "collapsed": false,
    "ein.tags": "worksheet-0",
    "slideshow": {
     "slide_type": "-"
    }
   },
   "outputs": [
    {
     "data": {
      "text/plain": [
       "<matplotlib.figure.Figure at 0x10c903278>"
      ]
     },
     "metadata": {},
     "output_type": "display_data"
    },
    {
     "data": {
      "text/plain": [
       "<matplotlib.figure.Figure at 0x10cdacf60>"
      ]
     },
     "metadata": {},
     "output_type": "display_data"
    },
    {
     "data": {
      "text/plain": [
       "<matplotlib.figure.Figure at 0x10c8b4e80>"
      ]
     },
     "metadata": {},
     "output_type": "display_data"
    },
    {
     "name": "stdout",
     "output_type": "stream",
     "text": [
      "----- temporal loop over !\n"
     ]
    },
    {
     "name": "stdout",
     "output_type": "stream",
     "text": [
      "simulation [...]\n",
      "----- loading parameters [...]\n",
      "synaptic network parameters in SI units\n",
      "cell parameters in SI units\n",
      "----- ## we look for the fixed point [...]\n",
      "synaptic network parameters in SI units\n",
      "cell parameters in SI units\n",
      "cell parameters in SI units\n",
      "----- ## we load the transfer functions [...]\n",
      "synaptic network parameters in SI units\n",
      "cell parameters in SI units\n",
      "cell parameters in SI units\n",
      "----- ## ring initialisation [...]\n",
      "----- ## stimulation initialisation [...]\n",
      "----- ## model initialisation [...]\n",
      "----- starting the temporal loop [...]\n"
     ]
    }
   ],
   "source": [
    "%run modeling_mesoscopic_dynamics/ring_model/single_trial.py"
   ]
  },
  {
   "cell_type": "markdown",
   "metadata": {
    "ein.tags": "worksheet-0",
    "slideshow": {
     "slide_type": "-"
    }
   },
   "source": [
    "#### Varying parameters"
   ]
  },
  {
   "cell_type": "code",
   "execution_count": 15,
   "metadata": {
    "autoscroll": false,
    "collapsed": false,
    "ein.tags": "worksheet-0",
    "slideshow": {
     "slide_type": "-"
    }
   },
   "outputs": [
    {
     "data": {
      "text/plain": [
       "<matplotlib.figure.Figure at 0x1062d8940>"
      ]
     },
     "metadata": {},
     "output_type": "display_data"
    },
    {
     "data": {
      "text/plain": [
       "<matplotlib.figure.Figure at 0x11619f668>"
      ]
     },
     "metadata": {},
     "output_type": "display_data"
    },
    {
     "data": {
      "text/plain": [
       "<matplotlib.figure.Figure at 0x114602710>"
      ]
     },
     "metadata": {},
     "output_type": "display_data"
    },
    {
     "name": "stdout",
     "output_type": "stream",
     "text": [
      "----- temporal loop over !\n"
     ]
    },
    {
     "name": "stdout",
     "output_type": "stream",
     "text": [
      "simulation [...]\n",
      "----- loading parameters [...]\n",
      "synaptic network parameters in SI units\n",
      "cell parameters in SI units\n",
      "----- ## we look for the fixed point [...]\n",
      "synaptic network parameters in SI units\n",
      "cell parameters in SI units\n",
      "cell parameters in SI units\n",
      "----- ## we load the transfer functions [...]\n",
      "synaptic network parameters in SI units\n",
      "cell parameters in SI units\n",
      "cell parameters in SI units\n",
      "----- ## ring initialisation [...]\n",
      "----- ## stimulation initialisation [...]\n",
      "----- ## model initialisation [...]\n",
      "----- starting the temporal loop [...]\n"
     ]
    }
   ],
   "source": [
    "%run modeling_mesoscopic_dynamics/ring_model/single_trial.py --conduction_velocity_mm_s 50"
   ]
  },
  {
   "cell_type": "code",
   "execution_count": 3,
   "metadata": {
    "autoscroll": false,
    "collapsed": false,
    "ein.tags": "worksheet-0",
    "slideshow": {
     "slide_type": "-"
    }
   },
   "outputs": [
    {
     "data": {
      "text/plain": [
       "<matplotlib.figure.Figure at 0x110375978>"
      ]
     },
     "metadata": {},
     "output_type": "display_data"
    },
    {
     "data": {
      "text/plain": [
       "<matplotlib.figure.Figure at 0x111cecc88>"
      ]
     },
     "metadata": {},
     "output_type": "display_data"
    },
    {
     "data": {
      "text/plain": [
       "<matplotlib.figure.Figure at 0x110d67e10>"
      ]
     },
     "metadata": {},
     "output_type": "display_data"
    },
    {
     "name": "stdout",
     "output_type": "stream",
     "text": [
      "----- temporal loop over !\n"
     ]
    },
    {
     "name": "stdout",
     "output_type": "stream",
     "text": [
      "simulation [...]\n",
      "----- loading parameters [...]\n",
      "synaptic network parameters in SI units\n",
      "cell parameters in SI units\n",
      "----- ## we look for the fixed point [...]\n",
      "synaptic network parameters in SI units\n",
      "cell parameters in SI units\n",
      "cell parameters in SI units\n",
      "----- ## we load the transfer functions [...]\n",
      "synaptic network parameters in SI units\n",
      "cell parameters in SI units\n",
      "cell parameters in SI units\n",
      "----- ## ring initialisation [...]\n",
      "----- ## stimulation initialisation [...]\n",
      "----- ## model initialisation [...]\n",
      "----- starting the temporal loop [...]\n"
     ]
    }
   ],
   "source": [
    "%run modeling_mesoscopic_dynamics/ring_model/single_trial.py --Tau1 10e-3 --Tau2 50e-3"
   ]
  },
  {
   "cell_type": "code",
   "execution_count": 2,
   "metadata": {
    "autoscroll": false,
    "collapsed": false,
    "ein.tags": "worksheet-0",
    "slideshow": {
     "slide_type": "-"
    }
   },
   "outputs": [
    {
     "data": {
      "text/plain": [
       "<matplotlib.figure.Figure at 0x110b2ff98>"
      ]
     },
     "metadata": {},
     "output_type": "display_data"
    },
    {
     "data": {
      "text/plain": [
       "<matplotlib.figure.Figure at 0x110034978>"
      ]
     },
     "metadata": {},
     "output_type": "display_data"
    },
    {
     "data": {
      "text/plain": [
       "<matplotlib.figure.Figure at 0x10caabb70>"
      ]
     },
     "metadata": {},
     "output_type": "display_data"
    },
    {
     "name": "stdout",
     "output_type": "stream",
     "text": [
      "----- temporal loop over !\n"
     ]
    },
    {
     "name": "stdout",
     "output_type": "stream",
     "text": [
      "simulation [...]\n",
      "----- loading parameters [...]\n",
      "synaptic network parameters in SI units\n",
      "cell parameters in SI units\n",
      "----- ## we look for the fixed point [...]\n",
      "synaptic network parameters in SI units\n",
      "cell parameters in SI units\n",
      "cell parameters in SI units\n",
      "----- ## we load the transfer functions [...]\n",
      "synaptic network parameters in SI units\n",
      "cell parameters in SI units\n",
      "cell parameters in SI units\n",
      "----- ## ring initialisation [...]\n",
      "----- ## stimulation initialisation [...]\n",
      "----- ## model initialisation [...]\n",
      "----- starting the temporal loop [...]\n"
     ]
    }
   ],
   "source": [
    "%run modeling_mesoscopic_dynamics/ring_model/single_trial.py --exc_connect_extent 1 --sX 4"
   ]
  },
  {
   "cell_type": "markdown",
   "metadata": {
    "ein.tags": "worksheet-0",
    "slideshow": {
     "slide_type": "-"
    }
   },
   "source": [
    "## Visually evoked responses recorded through VSDi"
   ]
  },
  {
   "cell_type": "markdown",
   "metadata": {
    "ein.tags": "worksheet-0",
    "slideshow": {
     "slide_type": "-"
    }
   },
   "source": [
    "see the details of those experimental data in the paper\n",
    "\n",
    "we illustrate the procedure for one recording stored in \"data/VSD_data_session_example.mat\"\n",
    "the rest of the data are available upon request to S. Chemla and F. Chavane"
   ]
  },
  {
   "cell_type": "code",
   "execution_count": 97,
   "metadata": {
    "autoscroll": false,
    "collapsed": false,
    "ein.tags": "worksheet-0",
    "slideshow": {
     "slide_type": "-"
    }
   },
   "outputs": [],
   "source": [
    "\"\"\"\n",
    "plotting the VSD data and evidence the propagation\n",
    "\"\"\"\n",
    "from scipy.io import loadmat\n",
    "import numpy as np\n",
    "from graphs.my_graph import set_plot\n",
    "from scipy.signal import convolve2d\n",
    "import matplotlib.cm as cm\n",
    "\n",
    "def load_data(filename, Nsmooth=1, tshift=0):\n",
    "    f = loadmat(filename)\n",
    "    data = 1e3*f['matNL'][0]['stim1'][0]\n",
    "    time = f['matNL'][0]['time'][0].flatten()+tshift\n",
    "    space = f['matNL'][0]['space'][0].flatten()\n",
    "    if Nsmooth>0:\n",
    "        smoothing = np.ones((Nsmooth, Nsmooth))/Nsmooth**2\n",
    "        smooth_data = convolve2d(data, smoothing, mode='same')\n",
    "    else:\n",
    "        smooth_data = data\n",
    "    return time, space, smooth_data\n",
    "    \n",
    "def plot_response(filename,\n",
    "                  tshift=0, Nsmooth=2,\n",
    "                  t0=-np.inf,t1=np.inf,\n",
    "                  Nlevels=10,\n",
    "                  vsd_ticks=[-0.5, 0, 0.5, 1.]):\n",
    "    \n",
    "    fig, ax = plt.subplots(1, figsize=(4.7,3))\n",
    "    plt.subplots_adjust(bottom=.23, top=.9, right=.84, left=.25)\n",
    "\n",
    "    time, space, smooth_data = load_data(filename, Nsmooth=Nsmooth, tshift=tshift)\n",
    "    cond = (time>t0) & (time<t1)\n",
    "    c = ax.contourf(time[cond], space, smooth_data[:,cond],\\\n",
    "             np.linspace(smooth_data.min(), smooth_data.max(), Nlevels), cmap=cm.viridis)\n",
    "    plt.colorbar(c, label='VSD signal ($\\perthousand$)',\n",
    "                 ticks=vsd_ticks)\n",
    "\n",
    "    set_plot(ax, xlabel='time (ms)', ylabel='space (mm)')\n",
    "    return fig, ax"
   ]
  },
  {
   "cell_type": "code",
   "execution_count": 98,
   "metadata": {
    "autoscroll": false,
    "collapsed": false,
    "ein.tags": "worksheet-0",
    "slideshow": {
     "slide_type": "-"
    }
   },
   "outputs": [
    {
     "data": {
      "text/plain": [
       "<matplotlib.figure.Figure at 0x111b66860>"
      ]
     },
     "metadata": {},
     "output_type": "display_data"
    }
   ],
   "source": [
    "# full response\n",
    "fig, _ = plot_response('data/VSD_data_session_example.mat')"
   ]
  },
  {
   "cell_type": "code",
   "execution_count": 120,
   "metadata": {
    "autoscroll": false,
    "collapsed": false,
    "ein.tags": "worksheet-0",
    "slideshow": {
     "slide_type": "-"
    }
   },
   "outputs": [
    {
     "data": {
      "text/plain": [
       "<matplotlib.figure.Figure at 0x1130e7940>"
      ]
     },
     "metadata": {},
     "output_type": "display_data"
    }
   ],
   "source": [
    "# zoomed response\n",
    "fig, ax = plot_response('data/VSD_data_session_example.mat',\n",
    "                        t0=-50, t1=100, Nsmooth=0)\n",
    "time, space, data = load_data('data/VSD_data_session_example.mat', Nsmooth=0, tshift=0)\n",
    "\n",
    "\"\"\"\n",
    "amp_criteria is the threshold of the crossing of maximum amplitude\n",
    "signal_criteria is a minimum amplitude criteria, beyond this level of the maximum observed signal we consider that there is no real evoked reponse, it does not goes beyond noise level\n",
    "\"\"\"\n",
    "signal_criteria, amp_criteria = 0.4, 0.6\n",
    "XX, TT = [], []\n",
    "for i in range(data.T.shape[1]):\n",
    "    imax = np.argmax(data.T[:,i])\n",
    "    if data.T[imax,i]>=signal_criteria:\n",
    "        ii = np.argmin(np.abs(data.T[:imax,i]-amp_criteria*data.T[imax,i]))\n",
    "        XX.append(space[i])\n",
    "        TT.append(time[ii])\n",
    "# ax.plot(np.array(TT), np.array(XX), 'wo', ms=1)        \n",
    "tt, xx = np.array(TT), np.array(XX)\n",
    "# for intervals in [[0,2.3], [2.5,5.7], [5.9,8.5]]:\n",
    "for intervals in [[3, 5.5], [6,8], [8.2, 12]]:\n",
    "    cond = (xx>intervals[0]) & (xx<intervals[1]) & (tt<20)\n",
    "    pol = np.polyfit(xx[cond], tt[cond], 1)\n",
    "    xxx = np.linspace(xx[cond][0], xx[cond][-1])\n",
    "    plt.plot(np.polyval(pol, xxx), xxx, 'w-', lw=2)\n",
    "set_plot(ax, xlabel='time (ms)', ylabel='space (mm)', ylim=[3,11])"
   ]
  },
  {
   "cell_type": "markdown",
   "metadata": {
    "ein.tags": "worksheet-0",
    "slideshow": {
     "slide_type": "-"
    }
   },
   "source": [
    "## Optimizing network parameters"
   ]
  },
  {
   "cell_type": "code",
   "execution_count": 128,
   "metadata": {
    "autoscroll": false,
    "collapsed": false,
    "ein.tags": "worksheet-0",
    "slideshow": {
     "slide_type": "-"
    }
   },
   "outputs": [
    {
     "name": "stdout",
     "output_type": "stream",
     "text": [
      "64 simulations to be performed\r\n"
     ]
    }
   ],
   "source": [
    "# we build up the scan run many configurations over a grid\n",
    "!(python modeling_mesoscopic_dynamics/ring_model/parameter_scan.py --N 2) # for teting\n",
    "#!(python modeling_mesoscopic_dynamics/ring_model/parameter_scan.py --N 5) # paper value"
   ]
  },
  {
   "cell_type": "code",
   "execution_count": 127,
   "metadata": {
    "autoscroll": false,
    "collapsed": false,
    "ein.tags": "worksheet-0",
    "slideshow": {
     "slide_type": "-"
    }
   },
   "outputs": [
    {
     "name": "stdout",
     "output_type": "stream",
     "text": [
      "modeling_mesoscopic_dynamics/ring_model/bash_parameter_scan.sh\r\n"
     ]
    }
   ],
   "source": [
    "# this writes a bash file in the 'modeling_mesoscopic_dynamics/ring_model' folder\n",
    "# launch it with \"bash modeling_mesoscopic_dynamics/ring_model/bash_parameter_scan.sh\"\n",
    "# (but ideally on a server, this is a bit long ~5h of simulations)\n",
    "!(ls modeling_mesoscopic_dynamics/ring_model/bash_parameter_scan.sh)"
   ]
  },
  {
   "cell_type": "code",
   "execution_count": 129,
   "metadata": {
    "autoscroll": false,
    "collapsed": false,
    "ein.tags": "worksheet-0",
    "slideshow": {
     "slide_type": "-"
    }
   },
   "outputs": [
    {
     "name": "stdout",
     "output_type": "stream",
     "text": [
      "^C\r\n",
      "Traceback (most recent call last):\r\n",
      "  File \"modeling_mesoscopic_dynamics/ring_model/single_trial.py\", line 59, in <module>\r\n",
      "    'Tau1':args.Tau1, 'Tau2':args.Tau2},\r\n",
      "  File \"/Users/yzerlaut/work/notebook_papers/modeling_mesoscopic_dynamics/ring_model/model.py\", line 120, in Euler_method_for_ring_model\r\n",
      "    Fi[i_t+1, i_x] = Fi[i_t, i_x] + dt/BIN*( TF2(fe,fi) - Fi[i_t, i_x])\r\n",
      "  File \"/Users/yzerlaut/work/notebook_papers/modeling_mesoscopic_dynamics/transfer_functions/load_config.py\", line 38, in TF2\r\n",
      "    return TF_my_template(fe, fi, *pseq_params(params2))\r\n",
      "  File \"/Users/yzerlaut/work/notebook_papers/modeling_mesoscopic_dynamics/transfer_functions/theoretical_tools.py\", line 85, in TF_my_template\r\n",
      "    Vthre = threshold_func(muV, sV, TvN, muGn, P0, P1, P2, P3, P4, P5, P6, P7, P8, P9, P10)\r\n",
      "  File \"/Users/yzerlaut/work/notebook_papers/modeling_mesoscopic_dynamics/transfer_functions/theoretical_tools.py\", line 78, in threshold_func\r\n",
      "    P9*(muV-muV0)/DmuV0*(TvN-TvN0)/DTvN0+\\\r\n",
      "KeyboardInterrupt\r\n"
     ]
    },
    {
     "name": "stdout",
     "output_type": "stream",
     "text": [
      "----- ## model initialisation [...]\r\n",
      "----- starting the temporal loop [...]\r\n",
      "----- ## we load the transfer functions [...]\r\n",
      "synaptic network parameters in SI units\r\n",
      "cell parameters in SI units\r\n",
      "cell parameters in SI units\r\n",
      "----- ## ring initialisation [...]\r\n",
      "----- ## stimulation initialisation [...]\r\n",
      "----- ## model initialisation [...]\r\n",
      "----- starting the temporal loop [...]\r\n"
     ]
    },
    {
     "name": "stdout",
     "output_type": "stream",
     "text": [
      "----- ## we load the transfer functions [...]\r\n",
      "synaptic network parameters in SI units\r\n",
      "cell parameters in SI units\r\n",
      "cell parameters in SI units\r\n",
      "----- ## ring initialisation [...]\r\n",
      "----- ## stimulation initialisation [...]\r\n",
      "----- ## model initialisation [...]\r\n",
      "----- starting the temporal loop [...]\r\n",
      "----- ## we load the transfer functions [...]\r\n",
      "synaptic network parameters in SI units\r\n",
      "cell parameters in SI units\r\n",
      "cell parameters in SI units\r\n",
      "----- ## ring initialisation [...]\r\n",
      "----- ## stimulation initialisation [...]\r\n",
      "----- ## model initialisation [...]\r\n",
      "----- starting the temporal loop [...]\r\n",
      "----- ## we load the transfer functions [...]\r\n",
      "synaptic network parameters in SI units\r\n",
      "cell parameters in SI units\r\n",
      "cell parameters in SI units\r\n",
      "----- ## ring initialisation [...]\r\n",
      "----- ## stimulation initialisation [...]\r\n"
     ]
    },
    {
     "name": "stdout",
     "output_type": "stream",
     "text": [
      "cell parameters in SI units\r\n",
      "simulation [...]\r\n",
      "----- loading parameters [...]\r\n",
      "synaptic network parameters in SI units\r\n",
      "cell parameters in SI units\r\n",
      "----- ## we look for the fixed point [...]\r\n",
      "synaptic network parameters in SI units\r\n",
      "cell parameters in SI units\r\n",
      "cell parameters in SI units\r\n",
      "simulation [...]\r\n",
      "----- loading parameters [...]\r\n",
      "synaptic network parameters in SI units\r\n",
      "cell parameters in SI units\r\n",
      "----- ## we look for the fixed point [...]\r\n",
      "synaptic network parameters in SI units\r\n",
      "cell parameters in SI units\r\n",
      "cell parameters in SI units\r\n",
      "simulation [...]\r\n",
      "----- loading parameters [...]\r\n",
      "synaptic network parameters in SI units\r\n",
      "cell parameters in SI units\r\n",
      "----- ## we look for the fixed point [...]\r\n",
      "synaptic network parameters in SI units\r\n",
      "cell parameters in SI units\r\n",
      "cell parameters in SI units\r\n"
     ]
    },
    {
     "name": "stdout",
     "output_type": "stream",
     "text": [
      "simulation [...]\r\n",
      "----- loading parameters [...]\r\n",
      "synaptic network parameters in SI units\r\n",
      "cell parameters in SI units\r\n",
      "----- ## we look for the fixed point [...]\r\n",
      "synaptic network parameters in SI units\r\n",
      "cell parameters in SI units\r\n"
     ]
    },
    {
     "name": "stdout",
     "output_type": "stream",
     "text": [
      "----- temporal loop over !\r\n"
     ]
    },
    {
     "name": "stdout",
     "output_type": "stream",
     "text": [
      "----- temporal loop over !\r\n"
     ]
    },
    {
     "name": "stdout",
     "output_type": "stream",
     "text": [
      "----- temporal loop over !\r\n",
      "----- temporal loop over !\r\n"
     ]
    },
    {
     "name": "stdout",
     "output_type": "stream",
     "text": [
      "----- ## we load the transfer functions [...]\r\n",
      "synaptic network parameters in SI units\r\n",
      "cell parameters in SI units\r\n",
      "cell parameters in SI units\r\n",
      "----- ## ring initialisation [...]\r\n",
      "----- ## stimulation initialisation [...]\r\n",
      "----- ## model initialisation [...]\r\n",
      "----- starting the temporal loop [...]\r\n"
     ]
    },
    {
     "name": "stdout",
     "output_type": "stream",
     "text": [
      "----- ## we load the transfer functions [...]\r\n",
      "synaptic network parameters in SI units\r\n",
      "cell parameters in SI units\r\n",
      "cell parameters in SI units\r\n",
      "----- ## ring initialisation [...]\r\n",
      "----- ## stimulation initialisation [...]\r\n",
      "----- ## model initialisation [...]\r\n",
      "----- starting the temporal loop [...]\r\n",
      "----- ## we load the transfer functions [...]\r\n",
      "synaptic network parameters in SI units\r\n",
      "cell parameters in SI units\r\n",
      "cell parameters in SI units\r\n",
      "----- ## ring initialisation [...]\r\n",
      "----- ## stimulation initialisation [...]\r\n",
      "----- ## model initialisation [...]\r\n",
      "----- starting the temporal loop [...]\r\n",
      "----- ## we load the transfer functions [...]\r\n",
      "synaptic network parameters in SI units\r\n",
      "cell parameters in SI units\r\n",
      "cell parameters in SI units\r\n",
      "----- ## ring initialisation [...]\r\n",
      "----- ## stimulation initialisation [...]\r\n",
      "----- ## model initialisation [...]\r\n",
      "----- starting the temporal loop [...]\r\n"
     ]
    },
    {
     "name": "stdout",
     "output_type": "stream",
     "text": [
      "cell parameters in SI units\r\n",
      "simulation [...]\r\n",
      "----- loading parameters [...]\r\n",
      "synaptic network parameters in SI units\r\n",
      "cell parameters in SI units\r\n",
      "----- ## we look for the fixed point [...]\r\n",
      "synaptic network parameters in SI units\r\n",
      "cell parameters in SI units\r\n",
      "cell parameters in SI units\r\n"
     ]
    },
    {
     "name": "stdout",
     "output_type": "stream",
     "text": [
      "simulation [...]\r\n",
      "----- loading parameters [...]\r\n",
      "synaptic network parameters in SI units\r\n",
      "cell parameters in SI units\r\n",
      "----- ## we look for the fixed point [...]\r\n",
      "synaptic network parameters in SI units\r\n",
      "cell parameters in SI units\r\n",
      "simulation [...]\r\n",
      "----- loading parameters [...]\r\n",
      "synaptic network parameters in SI units\r\n",
      "cell parameters in SI units\r\n",
      "----- ## we look for the fixed point [...]\r\n",
      "synaptic network parameters in SI units\r\n",
      "cell parameters in SI units\r\n",
      "cell parameters in SI units\r\n",
      "cell parameters in SI units\r\n",
      "simulation [...]\r\n",
      "----- loading parameters [...]\r\n",
      "synaptic network parameters in SI units\r\n",
      "cell parameters in SI units\r\n",
      "----- ## we look for the fixed point [...]\r\n",
      "synaptic network parameters in SI units\r\n",
      "cell parameters in SI units\r\n"
     ]
    },
    {
     "name": "stdout",
     "output_type": "stream",
     "text": [
      "----- temporal loop over !\r\n"
     ]
    },
    {
     "name": "stdout",
     "output_type": "stream",
     "text": [
      "----- temporal loop over !\r\n"
     ]
    },
    {
     "name": "stdout",
     "output_type": "stream",
     "text": [
      "----- temporal loop over !\r\n"
     ]
    },
    {
     "name": "stdout",
     "output_type": "stream",
     "text": [
      "----- temporal loop over !\r\n"
     ]
    },
    {
     "name": "stdout",
     "output_type": "stream",
     "text": [
      "----- ## we load the transfer functions [...]\r\n",
      "synaptic network parameters in SI units\r\n",
      "cell parameters in SI units\r\n",
      "cell parameters in SI units\r\n",
      "----- ## model initialisation [...]\r\n",
      "----- starting the temporal loop [...]\r\n",
      "----- ## ring initialisation [...]\r\n",
      "----- ## stimulation initialisation [...]\r\n",
      "----- ## model initialisation [...]\r\n",
      "----- starting the temporal loop [...]\r\n",
      "----- ## we load the transfer functions [...]\r\n",
      "synaptic network parameters in SI units\r\n",
      "cell parameters in SI units\r\n",
      "cell parameters in SI units\r\n",
      "----- ## ring initialisation [...]\r\n",
      "----- ## stimulation initialisation [...]\r\n",
      "----- ## model initialisation [...]\r\n",
      "----- starting the temporal loop [...]\r\n"
     ]
    },
    {
     "name": "stdout",
     "output_type": "stream",
     "text": [
      "----- ## we load the transfer functions [...]\r\n",
      "synaptic network parameters in SI units\r\n",
      "cell parameters in SI units\r\n",
      "cell parameters in SI units\r\n",
      "----- ## ring initialisation [...]\r\n",
      "----- ## stimulation initialisation [...]\r\n",
      "----- ## we load the transfer functions [...]\r\n",
      "synaptic network parameters in SI units\r\n",
      "cell parameters in SI units\r\n",
      "cell parameters in SI units\r\n",
      "----- ## model initialisation [...]\r\n",
      "----- starting the temporal loop [...]\r\n",
      "----- ## ring initialisation [...]\r\n",
      "----- ## stimulation initialisation [...]\r\n"
     ]
    },
    {
     "name": "stdout",
     "output_type": "stream",
     "text": [
      "simulation [...]\r\n",
      "----- loading parameters [...]\r\n",
      "synaptic network parameters in SI units\r\n",
      "cell parameters in SI units\r\n",
      "----- ## we look for the fixed point [...]\r\n",
      "synaptic network parameters in SI units\r\n",
      "cell parameters in SI units\r\n",
      "simulation [...]\r\n",
      "----- loading parameters [...]\r\n",
      "synaptic network parameters in SI units\r\n",
      "cell parameters in SI units\r\n",
      "----- ## we look for the fixed point [...]\r\n",
      "synaptic network parameters in SI units\r\n",
      "cell parameters in SI units\r\n",
      "simulation [...]\r\n",
      "----- loading parameters [...]\r\n",
      "synaptic network parameters in SI units\r\n",
      "cell parameters in SI units\r\n",
      "cell parameters in SI units\r\n",
      "----- ## we look for the fixed point [...]\r\n",
      "synaptic network parameters in SI units\r\n",
      "cell parameters in SI units\r\n",
      "cell parameters in SI units\r\n",
      "cell parameters in SI units\r\n",
      "simulation [...]\r\n",
      "----- loading parameters [...]\r\n",
      "synaptic network parameters in SI units\r\n",
      "cell parameters in SI units\r\n",
      "----- ## we look for the fixed point [...]\r\n",
      "synaptic network parameters in SI units\r\n",
      "cell parameters in SI units\r\n",
      "cell parameters in SI units\r\n"
     ]
    },
    {
     "name": "stdout",
     "output_type": "stream",
     "text": [
      "----- temporal loop over !\r\n"
     ]
    },
    {
     "name": "stdout",
     "output_type": "stream",
     "text": [
      "----- temporal loop over !\r\n"
     ]
    },
    {
     "name": "stdout",
     "output_type": "stream",
     "text": [
      "----- temporal loop over !\r\n"
     ]
    },
    {
     "name": "stdout",
     "output_type": "stream",
     "text": [
      "----- temporal loop over !\r\n"
     ]
    },
    {
     "name": "stdout",
     "output_type": "stream",
     "text": [
      "----- ## stimulation initialisation [...]\r\n",
      "----- ## model initialisation [...]\r\n",
      "----- starting the temporal loop [...]\r\n"
     ]
    },
    {
     "name": "stdout",
     "output_type": "stream",
     "text": [
      "----- ## we load the transfer functions [...]\r\n",
      "synaptic network parameters in SI units\r\n",
      "cell parameters in SI units\r\n",
      "cell parameters in SI units\r\n",
      "----- ## ring initialisation [...]\r\n"
     ]
    },
    {
     "name": "stdout",
     "output_type": "stream",
     "text": [
      "simulation [...]\r\n",
      "----- loading parameters [...]\r\n",
      "synaptic network parameters in SI units\r\n",
      "cell parameters in SI units\r\n",
      "----- ## we look for the fixed point [...]\r\n",
      "synaptic network parameters in SI units\r\n",
      "cell parameters in SI units\r\n",
      "cell parameters in SI units\r\n"
     ]
    },
    {
     "name": "stdout",
     "output_type": "stream",
     "text": [
      "----- ## we load the transfer functions [...]\r\n",
      "synaptic network parameters in SI units\r\n",
      "cell parameters in SI units\r\n",
      "cell parameters in SI units\r\n",
      "----- ## ring initialisation [...]\r\n",
      "----- ## stimulation initialisation [...]\r\n",
      "----- ## model initialisation [...]\r\n",
      "----- starting the temporal loop [...]\r\n",
      "----- ## we load the transfer functions [...]\r\n",
      "synaptic network parameters in SI units\r\n",
      "cell parameters in SI units\r\n",
      "cell parameters in SI units\r\n",
      "----- ## ring initialisation [...]\r\n",
      "----- ## stimulation initialisation [...]\r\n",
      "----- ## model initialisation [...]\r\n",
      "----- starting the temporal loop [...]\r\n",
      "----- ## we load the transfer functions [...]\r\n",
      "synaptic network parameters in SI units\r\n",
      "cell parameters in SI units\r\n",
      "cell parameters in SI units\r\n",
      "----- ## ring initialisation [...]\r\n",
      "----- ## stimulation initialisation [...]\r\n",
      "----- ## model initialisation [...]\r\n",
      "----- starting the temporal loop [...]\r\n"
     ]
    },
    {
     "name": "stdout",
     "output_type": "stream",
     "text": [
      "cell parameters in SI units\r\n",
      "simulation [...]\r\n",
      "----- loading parameters [...]\r\n",
      "synaptic network parameters in SI units\r\n",
      "cell parameters in SI units\r\n",
      "----- ## we look for the fixed point [...]\r\n",
      "synaptic network parameters in SI units\r\n",
      "cell parameters in SI units\r\n",
      "cell parameters in SI units\r\n"
     ]
    },
    {
     "name": "stdout",
     "output_type": "stream",
     "text": [
      "simulation [...]\r\n",
      "----- loading parameters [...]\r\n",
      "synaptic network parameters in SI units\r\n",
      "cell parameters in SI units\r\n",
      "----- ## we look for the fixed point [...]\r\n",
      "synaptic network parameters in SI units\r\n",
      "cell parameters in SI units\r\n",
      "cell parameters in SI units\r\n",
      "simulation [...]\r\n",
      "----- loading parameters [...]\r\n",
      "synaptic network parameters in SI units\r\n",
      "cell parameters in SI units\r\n",
      "----- ## we look for the fixed point [...]\r\n",
      "synaptic network parameters in SI units\r\n",
      "cell parameters in SI units\r\n"
     ]
    },
    {
     "name": "stdout",
     "output_type": "stream",
     "text": [
      "----- temporal loop over !\r\n"
     ]
    },
    {
     "name": "stdout",
     "output_type": "stream",
     "text": [
      "----- temporal loop over !\r\n"
     ]
    },
    {
     "name": "stdout",
     "output_type": "stream",
     "text": [
      "----- temporal loop over !\r\n"
     ]
    },
    {
     "name": "stdout",
     "output_type": "stream",
     "text": [
      "----- temporal loop over !\r\n"
     ]
    },
    {
     "name": "stdout",
     "output_type": "stream",
     "text": [
      "synaptic network parameters in SI units\r\n",
      "cell parameters in SI units\r\n",
      "cell parameters in SI units\r\n",
      "----- ## ring initialisation [...]\r\n",
      "----- ## stimulation initialisation [...]\r\n",
      "----- ## model initialisation [...]\r\n",
      "----- starting the temporal loop [...]\r\n"
     ]
    },
    {
     "name": "stdout",
     "output_type": "stream",
     "text": [
      "----- ## stimulation initialisation [...]\r\n",
      "----- ## model initialisation [...]\r\n",
      "----- starting the temporal loop [...]\r\n",
      "----- ## we load the transfer functions [...]\r\n",
      "synaptic network parameters in SI units\r\n",
      "cell parameters in SI units\r\n",
      "cell parameters in SI units\r\n",
      "----- ## we load the transfer functions [...]\r\n",
      "synaptic network parameters in SI units\r\n",
      "cell parameters in SI units\r\n",
      "----- ## ring initialisation [...]\r\n",
      "----- ## stimulation initialisation [...]\r\n",
      "cell parameters in SI units\r\n",
      "----- ## ring initialisation [...]\r\n",
      "----- ## stimulation initialisation [...]\r\n",
      "----- ## model initialisation [...]\r\n",
      "----- starting the temporal loop [...]\r\n",
      "----- ## model initialisation [...]\r\n",
      "----- starting the temporal loop [...]\r\n",
      "----- ## we load the transfer functions [...]\r\n"
     ]
    },
    {
     "name": "stdout",
     "output_type": "stream",
     "text": [
      "cell parameters in SI units\r\n",
      "cell parameters in SI units\r\n",
      "simulation [...]\r\n",
      "----- loading parameters [...]\r\n",
      "synaptic network parameters in SI units\r\n",
      "cell parameters in SI units\r\n",
      "----- ## we look for the fixed point [...]\r\n",
      "synaptic network parameters in SI units\r\n",
      "cell parameters in SI units\r\n",
      "cell parameters in SI units\r\n",
      "----- ## we load the transfer functions [...]\r\n",
      "synaptic network parameters in SI units\r\n",
      "cell parameters in SI units\r\n",
      "cell parameters in SI units\r\n",
      "----- ## ring initialisation [...]\r\n"
     ]
    },
    {
     "name": "stdout",
     "output_type": "stream",
     "text": [
      "simulation [...]\r\n",
      "----- loading parameters [...]\r\n",
      "synaptic network parameters in SI units\r\n",
      "cell parameters in SI units\r\n",
      "----- ## we look for the fixed point [...]\r\n",
      "synaptic network parameters in SI units\r\n",
      "cell parameters in SI units\r\n",
      "cell parameters in SI units\r\n",
      "simulation [...]\r\n",
      "----- loading parameters [...]\r\n",
      "synaptic network parameters in SI units\r\n",
      "cell parameters in SI units\r\n",
      "----- ## we look for the fixed point [...]\r\n",
      "synaptic network parameters in SI units\r\n",
      "cell parameters in SI units\r\n",
      "simulation [...]\r\n",
      "----- loading parameters [...]\r\n",
      "synaptic network parameters in SI units\r\n",
      "cell parameters in SI units\r\n",
      "----- ## we look for the fixed point [...]\r\n",
      "synaptic network parameters in SI units\r\n",
      "cell parameters in SI units\r\n"
     ]
    },
    {
     "name": "stdout",
     "output_type": "stream",
     "text": [
      "----- temporal loop over !\r\n",
      "----- temporal loop over !\r\n"
     ]
    },
    {
     "name": "stdout",
     "output_type": "stream",
     "text": [
      "----- temporal loop over !\r\n"
     ]
    },
    {
     "name": "stdout",
     "output_type": "stream",
     "text": [
      "----- temporal loop over !\r\n"
     ]
    },
    {
     "name": "stdout",
     "output_type": "stream",
     "text": [
      "synaptic network parameters in SI units\r\n",
      "cell parameters in SI units\r\n",
      "cell parameters in SI units\r\n",
      "----- ## ring initialisation [...]\r\n",
      "----- ## stimulation initialisation [...]\r\n",
      "----- ## model initialisation [...]\r\n",
      "----- starting the temporal loop [...]\r\n",
      "----- ## we load the transfer functions [...]\r\n",
      "synaptic network parameters in SI units\r\n",
      "cell parameters in SI units\r\n",
      "cell parameters in SI units\r\n",
      "----- ## ring initialisation [...]\r\n",
      "----- ## stimulation initialisation [...]\r\n",
      "----- ## model initialisation [...]\r\n",
      "----- starting the temporal loop [...]\r\n",
      "----- ## we load the transfer functions [...]\r\n",
      "synaptic network parameters in SI units\r\n",
      "cell parameters in SI units\r\n",
      "cell parameters in SI units\r\n",
      "----- ## ring initialisation [...]\r\n",
      "----- ## stimulation initialisation [...]\r\n",
      "----- ## model initialisation [...]\r\n",
      "----- starting the temporal loop [...]\r\n"
     ]
    },
    {
     "name": "stdout",
     "output_type": "stream",
     "text": [
      "cell parameters in SI units\r\n",
      "----- ## we load the transfer functions [...]\r\n",
      "synaptic network parameters in SI units\r\n",
      "cell parameters in SI units\r\n",
      "cell parameters in SI units\r\n",
      "----- ## ring initialisation [...]\r\n",
      "----- ## stimulation initialisation [...]\r\n",
      "----- ## model initialisation [...]\r\n",
      "----- starting the temporal loop [...]\r\n",
      "----- ## we load the transfer functions [...]\r\n"
     ]
    },
    {
     "name": "stdout",
     "output_type": "stream",
     "text": [
      "simulation [...]\r\n",
      "----- loading parameters [...]\r\n",
      "synaptic network parameters in SI units\r\n",
      "cell parameters in SI units\r\n",
      "----- ## we look for the fixed point [...]\r\n",
      "synaptic network parameters in SI units\r\n",
      "cell parameters in SI units\r\n",
      "cell parameters in SI units\r\n",
      "simulation [...]\r\n",
      "----- loading parameters [...]\r\n",
      "synaptic network parameters in SI units\r\n",
      "cell parameters in SI units\r\n",
      "----- ## we look for the fixed point [...]\r\n",
      "synaptic network parameters in SI units\r\n",
      "cell parameters in SI units\r\n",
      "simulation [...]\r\n",
      "----- loading parameters [...]\r\n",
      "synaptic network parameters in SI units\r\n",
      "cell parameters in SI units\r\n",
      "----- ## we look for the fixed point [...]\r\n",
      "synaptic network parameters in SI units\r\n",
      "cell parameters in SI units\r\n",
      "cell parameters in SI units\r\n",
      "cell parameters in SI units\r\n",
      "simulation [...]\r\n",
      "----- loading parameters [...]\r\n",
      "synaptic network parameters in SI units\r\n",
      "cell parameters in SI units\r\n",
      "----- ## we look for the fixed point [...]\r\n",
      "synaptic network parameters in SI units\r\n",
      "cell parameters in SI units\r\n"
     ]
    }
   ],
   "source": [
    "!(bash modeling_mesoscopic_dynamics/ring_model/bash_parameter_scan.sh)"
   ]
  },
  {
   "cell_type": "code",
   "execution_count": null,
   "metadata": {
    "autoscroll": false,
    "collapsed": false,
    "ein.tags": "worksheet-0",
    "slideshow": {
     "slide_type": "-"
    }
   },
   "outputs": [],
   "source": []
  }
 ],
 "metadata": {
  "kernelspec": {
   "display_name": "Python [Root]",
   "name": "Python [Root]"
  },
  "language_info": {
   "codemirror_mode": {
    "name": "ipython",
    "version": 3
   },
   "file_extension": ".py",
   "mimetype": "text/x-python",
   "name": "python",
   "nbconvert_exporter": "python",
   "pygments_lexer": "ipython3",
   "version": "3.5.2"
  },
  "name": "Modeling_Mesoscopic_Dynamics_JCNS_2017.ipynb"
 },
 "nbformat": 4,
 "nbformat_minor": 0
}
