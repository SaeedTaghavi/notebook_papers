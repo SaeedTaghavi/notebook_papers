{
 "cells": [
  {
   "cell_type": "code",
   "execution_count": 28,
   "metadata": {
    "collapsed": false
   },
   "outputs": [
    {
     "name": "stdout",
     "output_type": "stream",
     "text": [
      "The autoreload extension is already loaded. To reload it, use:\n",
      "  %reload_ext autoreload\n"
     ]
    }
   ],
   "source": [
    "\"\"\"\n",
    "   To run the code below, you will need:\n",
    "\n",
    "   1) a scientific python distribution, e.g. download the one from continuum analytics:\n",
    "           https://www.continuum.io/downloads\n",
    "        This was tested with python 3.5 only\n",
    "\n",
    "   2) the custom python code that lies in the folder:\n",
    "        'heterogeneous_firing_responses'\n",
    "        that \n",
    "\"\"\"\n",
    "\n",
    "%load_ext autoreload\n",
    "%autoreload 2 # to track changes within modules (for debugging)\n",
    "%matplotlib inline"
   ]
  },
  {
   "cell_type": "markdown",
   "metadata": {
    "ein.tags": [
     "worksheet-0"
    ],
    "slideshow": {
     "slide_type": "-"
    }
   },
   "source": [
    "# Analytical estimate of the statistical properties of the Vm fluctuations"
   ]
  },
  {
   "cell_type": "markdown",
   "metadata": {},
   "source": [
    "Here we use simpy to check the analytical calculus that translates the input properties into the properties of the membrane potential fluctuations under the single compartment approximation"
   ]
  },
  {
   "cell_type": "code",
   "execution_count": 21,
   "metadata": {
    "autoscroll": "json-false",
    "collapsed": false,
    "ein.tags": [
     "worksheet-0"
    ],
    "slideshow": {
     "slide_type": "-"
    }
   },
   "outputs": [],
   "source": [
    "from sympy import exp, cosh, sinh, init_printing, pprint, simplify, latex, symbols,\\\n",
    "  Function, sign, factor, fraction, pi, integrate, oo\n",
    "from sympy.abc import a,b\n",
    "from sympy import inverse_fourier_transform, fourier_transform\n",
    "init_printing()"
   ]
  },
  {
   "cell_type": "markdown",
   "metadata": {
    "ein.tags": [
     "worksheet-0"
    ],
    "slideshow": {
     "slide_type": "-"
    }
   },
   "source": [
    "Starting from the membrane equation with one (current-based) synaptic event:\n",
    "\n",
    "\\begin{equation}\n",
    "C_m \\frac{dV}{dt} =  g_L \\, (E_L - V) + g_S \\, (\\mu_V - V) + I_{\\mu V} \\pm Q_i \\, e^{-t/\\tau_S} \\, \\mathcal{H}(t)\n",
    "\\end{equation}\n",
    "\n",
    "Note the shunting conductance of reversal potential $\\mu_V$ and $ I_{\\mu V} = g_L \\, (\\mu_V - E_L)$, we can thus rewrite the equation for $V = V- \\mu_V$, we get:\n",
    "\n",
    "\\begin{equation}\n",
    "C_m \\frac{dV}{dt} = - \\mu_G \\, V  \\pm Q_i \\, e^{-t/\\tau_S} \\, \\mathcal{H}(t)\n",
    "\\end{equation}\n",
    "\n",
    "where $\\mu_G = (g_L+g_S)$ is the total conductance. \n",
    "\n",
    "\n",
    "Thus, a single excitatory or inhibitory post-synaptic potential event from\n",
    "this input will have the following time course around $\\mu_V$:\n",
    "\n",
    "\n",
    "\\begin{equation}\n",
    " PSP(t) = \\pm \\frac{ Q_I \\, \\tau_S \\, (e^{-\\frac{t}{\\tau_\\mathrm{m}^\\mathrm{eff}}} - e^{-\\frac{t}{\\tau_S}})}{\\mu_G \\,\n",
    " (\\tau_\\mathrm{m}^\\mathrm{eff} - \\tau_S)}  \\, \\mathcal{H}(t)\n",
    "\\end{equation}\n",
    "\n",
    "Where we introduced $\\tau_\\mathrm{m}^\\mathrm{eff} = \\frac{C_m}{\\mu_G}$"
   ]
  },
  {
   "cell_type": "code",
   "execution_count": 22,
   "metadata": {
    "autoscroll": "json-false",
    "collapsed": false,
    "ein.tags": [
     "worksheet-0"
    ],
    "slideshow": {
     "slide_type": "-"
    }
   },
   "outputs": [
    {
     "name": "stdout",
     "output_type": "stream",
     "text": [
      "Form of the Post-Synaptic Potential event: (exp(-t/tau_1) - exp(-t/tau2))*(sign(t) + 1)/2\n"
     ]
    }
   ],
   "source": [
    "# we simplify it, to take the \n",
    "\n",
    "f, t, T1, T2 = symbols('f, t, tau_1, tau2', real=True)\n",
    "PSP = Function('PSP')\n",
    "PSP = (exp(-t/T1)-exp(-t/T2))*(1+sign(t))/2\n",
    "print('Form of the Post-Synaptic Potential event:', PSP)"
   ]
  },
  {
   "cell_type": "code",
   "execution_count": 23,
   "metadata": {
    "autoscroll": "json-false",
    "collapsed": false,
    "ein.tags": [
     "worksheet-0"
    ],
    "slideshow": {
     "slide_type": "-"
    }
   },
   "outputs": [
    {
     "name": "stdout",
     "output_type": "stream",
     "text": [
      "Fourier Transform of the PSP event:\n"
     ]
    },
    {
     "data": {
      "image/png": "[encoded data removed]",
      "text/latex": [
       "$$\\frac{- \\tau_{2} + \\tau_{1}}{- 4 \\pi^{2} f^{2} \\tau_{2} \\tau_{1} + 2 i \\pi f \\tau_{2} + 2 i \\pi f \\tau_{1} + 1}$$"
      ],
      "text/plain": [
       "                   -τ₂ + τ₁                  \n",
       "─────────────────────────────────────────────\n",
       "     2  2                                    \n",
       "- 4⋅π ⋅f ⋅τ₂⋅τ₁ + 2⋅ⅈ⋅π⋅f⋅τ₂ + 2⋅ⅈ⋅π⋅f⋅τ₁ + 1"
      ]
     },
     "execution_count": 23,
     "metadata": {},
     "output_type": "execute_result"
    }
   ],
   "source": [
    "print('Fourier Transform of the PSP event:')\n",
    "PSP_hat = Function('PSP_hat')\n",
    "PSP_hat = factor(fourier_transform(PSP, t, f))\n",
    "numerator, denominator = fraction(PSP_hat)\n",
    "simplify(PSP_hat)"
   ]
  },
  {
   "cell_type": "code",
   "execution_count": 24,
   "metadata": {
    "autoscroll": "json-false",
    "collapsed": false,
    "ein.tags": [
     "worksheet-0"
    ],
    "slideshow": {
     "slide_type": "-"
    }
   },
   "outputs": [
    {
     "name": "stdout",
     "output_type": "stream",
     "text": [
      "Square modulus of the Fourier Transform of the PSP event:\n"
     ]
    },
    {
     "data": {
      "image/png": "[encoded data removed]",
      "text/latex": [
       "$$\\frac{\\tau_{2}^{2} - 2 \\tau_{2} \\tau_{1} + \\tau_{1}^{2}}{16 \\pi^{4} f^{4} \\tau_{2}^{2} \\tau_{1}^{2} + 4 \\pi^{2} f^{2} \\tau_{2}^{2} + 4 \\pi^{2} f^{2} \\tau_{1}^{2} + 1}$$"
      ],
      "text/plain": [
       "                2               2               \n",
       "              τ₂  - 2⋅τ₂⋅τ₁ + τ₁                \n",
       "────────────────────────────────────────────────\n",
       "    4  4   2   2      2  2   2      2  2   2    \n",
       "16⋅π ⋅f ⋅τ₂ ⋅τ₁  + 4⋅π ⋅f ⋅τ₂  + 4⋅π ⋅f ⋅τ₁  + 1"
      ]
     },
     "execution_count": 24,
     "metadata": {},
     "output_type": "execute_result"
    }
   ],
   "source": [
    "from sympy.functions import Abs, conjugate\n",
    "print('Square modulus of the Fourier Transform of the PSP event:')\n",
    "PSP_hat2 = simplify((PSP_hat)*conjugate(PSP_hat))\n",
    "numerator, denominator = fraction(PSP_hat2)\n",
    "PSP_hat2"
   ]
  },
  {
   "cell_type": "code",
   "execution_count": 25,
   "metadata": {
    "autoscroll": "json-false",
    "collapsed": false,
    "ein.tags": [
     "worksheet-0"
    ],
    "slideshow": {
     "slide_type": "-"
    }
   },
   "outputs": [
    {
     "data": {
      "image/png": "[encoded data removed]",
      "text/latex": [
       "$$\\left ( \\tau_{2}^{2} - 2 \\tau_{2} \\tau_{1} + \\tau_{1}^{2}, \\quad \\left(4 \\pi^{2} f^{2} \\tau_{2}^{2} + 1\\right) \\left(4 \\pi^{2} f^{2} \\tau_{1}^{2} + 1\\right)\\right )$$"
      ],
      "text/plain": [
       "⎛  2               2  ⎛   2  2   2    ⎞ ⎛   2  2   2    ⎞⎞\n",
       "⎝τ₂  - 2⋅τ₂⋅τ₁ + τ₁ , ⎝4⋅π ⋅f ⋅τ₂  + 1⎠⋅⎝4⋅π ⋅f ⋅τ₁  + 1⎠⎠"
      ]
     },
     "execution_count": 25,
     "metadata": {},
     "output_type": "execute_result"
    }
   ],
   "source": [
    "# we simplify the numerator and denominator\n",
    "simplify(numerator), factor(simplify(denominator))"
   ]
  },
  {
   "cell_type": "markdown",
   "metadata": {
    "ein.tags": [
     "worksheet-0"
    ],
    "slideshow": {
     "slide_type": "-"
    }
   },
   "source": [
    "We reintroduce the appropriate constants, we get;\n",
    "\n",
    "\\begin{equation}\n",
    "  \\| \\hat{PSP(f)} \\|^2 = \\Big( \\frac{Q_I \\, \\tau_S}{ \\mu_G \\, (\\tau_\\mathrm{m}^\\mathrm{eff} - \\tau_S) } \\Big)^2\n",
    "  \\, \\frac{ (\\tau_S - \\tau_\\mathrm{m}^\\mathrm{eff})^2 }{\n",
    "  \\big(1+4 \\pi^2 f^2 \\tau_S^2 \\big) \\big(1+4 \\pi^2 f^2 (\\tau_m^\\mathrm{eff})^2 \\big)}\n",
    "\\end{equation}\n",
    "\n",
    "thus\n",
    "\n",
    "\\begin{equation}\n",
    "  \\| \\hat{PSP(f)} \\|^2 = \\Big( \\frac{Q_I \\, \\tau_S}{ \\mu_G \\, } \\Big)^2\n",
    "  \\, \\frac{ 1}{\n",
    "  \\big(1+4 \\pi^2 f^2 \\tau_S^2 \\big) \\big(1+4 \\pi^2 f^2 (\\tau_m^\\mathrm{eff})^2 \\big)}\n",
    "\\end{equation}\n"
   ]
  },
  {
   "cell_type": "markdown",
   "metadata": {
    "ein.tags": [
     "worksheet-0"
    ],
    "slideshow": {
     "slide_type": "-"
    }
   },
   "source": [
    "Then we want the power spectrum, i.e. two independent shotnoise (exc. and inh.) of the same shotnoise properties.\n",
    "\n",
    "From shotnoise theory, we have:\n",
    "\n",
    "\\begin{equation}\n",
    "\\begin{split}\n",
    " P_V(f)  = & \\sum_{syn} \\nu_{syn} \\, \\| \\hat{\\mathrm{PSP}}(f) \\|^2 \\\\\n",
    " & = 2 \\nu_{in} \\, \\frac{Q_I^2 \\, \\tau_S^2 / \\mu_G^2 }{\n",
    " \\big(1+4 \\pi^2 f^2 \\tau_S^2 \\big) \\big(1+4 \\pi^2 f^2 (\\tau_m^\\mathrm{eff})^2 \\big)}\n",
    "\\end{split}\n",
    "\\end{equation}\n",
    "\n"
   ]
  },
  {
   "cell_type": "code",
   "execution_count": 26,
   "metadata": {
    "autoscroll": "json-false",
    "collapsed": false,
    "ein.tags": [
     "worksheet-0"
    ],
    "slideshow": {
     "slide_type": "-"
    }
   },
   "outputs": [
    {
     "data": {
      "image/png": "[encoded data removed]",
      "text/latex": [
       "$$\\begin{cases} \\frac{1}{2 \\tau_{2} + 2 \\tau_{1}} & \\text{for}\\: \\left|{\\operatorname{periodic_{argument}}{\\left (\\operatorname{polar\\_lift}^{2}{\\left (\\tau_{2} \\right )},\\infty \\right )}}\\right| < \\pi \\wedge \\left|{\\operatorname{periodic_{argument}}{\\left (\\operatorname{polar\\_lift}^{2}{\\left (\\tau_{1} \\right )},\\infty \\right )}}\\right| < \\pi \\\\\\int_{-\\infty}^{\\infty} \\frac{1}{\\left(4 \\pi^{2} f^{2} \\tau_{2}^{2} + 1\\right) \\left(4 \\pi^{2} f^{2} \\tau_{1}^{2} + 1\\right)}\\, df & \\text{otherwise} \\end{cases}$$"
      ],
      "text/plain": [
       "⎧                    1                          │                 ⎛          2\n",
       "⎪               ───────────                 for │periodic_argument⎝polar_lift \n",
       "⎪               2⋅(τ₂ + τ₁)                                                   \n",
       "⎪                                                                             \n",
       "⎪∞                                                                            \n",
       "⎪⌠                                                                            \n",
       "⎨⎮                   1                                                        \n",
       "⎪⎮  ─────────────────────────────────── df                                    \n",
       "⎪⎮  ⎛   2  2   2    ⎞ ⎛   2  2   2    ⎞                                       \n",
       "⎪⎮  ⎝4⋅π ⋅f ⋅τ₂  + 1⎠⋅⎝4⋅π ⋅f ⋅τ₁  + 1⎠                                       \n",
       "⎪⌡                                                                            \n",
       "⎪-∞                                                                           \n",
       "⎩                                                                             \n",
       "\n",
       "       ⎞│       │                 ⎛          2       ⎞│    \n",
       "(τ₂), ∞⎠│ < π ∧ │periodic_argument⎝polar_lift (τ₁), ∞⎠│ < π\n",
       "                                                           \n",
       "                                                           \n",
       "                                                           \n",
       "                                                           \n",
       "                                                           \n",
       "        otherwise                                          \n",
       "                                                           \n",
       "                                                           \n",
       "                                                           \n",
       "                                                           \n",
       "                                                           "
      ]
     },
     "execution_count": 26,
     "metadata": {},
     "output_type": "execute_result"
    }
   ],
   "source": [
    "# we will need to integrate this\n",
    "\n",
    "func = Function('func')\n",
    "func = 1/((1+4*pi**2*T1**2*f**2)*(1+4*pi**2*T2**2*f**2))\n",
    "simplify(integrate(func, (f, -oo, oo)))"
   ]
  },
  {
   "cell_type": "markdown",
   "metadata": {
    "ein.tags": [
     "worksheet-0"
    ],
    "slideshow": {
     "slide_type": "-"
    }
   },
   "source": [
    "Then for the variance \n",
    "\n",
    "\\begin{equation}\n",
    "  \\big( \\sigma_V \\big)^2 = \\int_\\mathbb{R} P_V(f) \\, df =\n",
    "  2 \\, \\nu_{in} \\cdot  \\Big( \\frac{Q_I \\, \\tau_S}{ \\mu_G \\, } \\Big)^2\n",
    "  \\,  \\int_\\mathbb{R} \\frac{ 1}{\n",
    "  \\big(1+4 \\pi^2 f^2 \\tau_S^2 \\big) \\big(1+4 \\pi^2 f^2 (\\tau_m^\\mathrm{eff})^2 \\big)}\n",
    "\\end{equation}\n",
    "\n",
    "\n",
    "\\begin{equation}\n",
    "  \\big( \\sigma_V \\big)^2 = \\int_\\mathbb{R} P_V(f) \\, df =\n",
    "   \\frac{ \\nu_{in} \\cdot }{ \\tau_S +\\tau_m^\\mathrm{eff}} \\, \\Big( \\frac{Q_I \\, \\tau_S}{ \\mu_G \\, } \\Big)^2\n",
    "\\end{equation}\n",
    "\n"
   ]
  },
  {
   "cell_type": "markdown",
   "metadata": {
    "ein.tags": [
     "worksheet-0"
    ],
    "slideshow": {
     "slide_type": "-"
    }
   },
   "source": [
    "Our definition is:\n",
    "\n",
    "\\begin{equation}\n",
    "  \\tau_V = \\frac{1}{2} \\, \\big( \\frac{\\int_\\mathbb{R} P_V(f) \\, d f}{ P_V(0) } \\big)^{-1}\n",
    "\\end{equation}\n",
    "\n",
    "and:\n",
    "\n",
    "\\begin{equation}\n",
    "  \\int_\\mathbb{R} P_V(f) \\, d f =  \\frac{ P_V(0) }{ 2 \\, (\\tau_S +\\tau_m^\\mathrm{eff})}\n",
    "\\end{equation}\n",
    "\n",
    "So:\n",
    "\n",
    "\\begin{equation}\n",
    "  \\tau_V = \\tau_S +\\tau_m^\\mathrm{eff}\n",
    "\\end{equation}\n",
    "\n"
   ]
  },
  {
   "cell_type": "markdown",
   "metadata": {},
   "source": [
    "# Numerical simulations of "
   ]
  },
  {
   "cell_type": "code",
   "execution_count": 27,
   "metadata": {
    "collapsed": false
   },
   "outputs": [
    {
     "name": "stdout",
     "output_type": "stream",
     "text": [
      "-0.07 2.5e-09 8e-11 -0.047 -0.07 -0.0 0.02 0.005 0.0 0 0 0.5 -0.054 0.005 0\n",
      "-0.07 2.5e-09 8e-11 -0.047 -0.07 -0.0 0.02 0.005 0.0 0 0 0.5 -0.054 0.005 0\n",
      "-0.07 2.5e-09 8e-11 -0.047 -0.07 -0.0 0.02 0.005 0.002 4e-09 2e-11 0.5 -0.054 0.005 0\n",
      "-0.07 2.5e-09 8e-11 -0.047 -0.07 -0.0 0.02 0.005 0.002 4e-09 2e-11 0.5 -0.054 0.005 0\n"
     ]
    },
    {
     "data": {
      "text/plain": [
       "(<matplotlib.figure.Figure at 0x10337aa20>,\n",
       " <matplotlib.figure.Figure at 0x108700780>)"
      ]
     },
     "execution_count": 27,
     "metadata": {},
     "output_type": "execute_result"
    },
    {
     "data": {
      "image/png": "[encoded data removed]",
      "text/plain": [
       "<matplotlib.figure.Figure at 0x10337aa20>"
      ]
     },
     "metadata": {},
     "output_type": "display_data"
    },
    {
     "data": {
      "image/png": "[encoded data removed]",
      "text/plain": [
       "<matplotlib.figure.Figure at 0x108700780>"
      ]
     },
     "metadata": {},
     "output_type": "display_data"
    }
   ],
   "source": [
    "from heterogeneous_firing_responses.numerical_simulations.step_response import make_model_figure as step_response\n",
    "fig1 = step_input('LIF')\n",
    "fig2 = step_input('AdExp')\n",
    "fig1, fig2"
   ]
  },
  {
   "cell_type": "code",
   "execution_count": null,
   "metadata": {
    "collapsed": true
   },
   "outputs": [],
   "source": []
  }
 ],
 "metadata": {
  "kernelspec": {
   "display_name": "Python [Root]",
   "language": "python",
   "name": "Python [Root]"
  },
  "language_info": {
   "codemirror_mode": {
    "name": "ipython",
    "version": 3
   },
   "file_extension": ".py",
   "mimetype": "text/x-python",
   "name": "python",
   "nbconvert_exporter": "python",
   "pygments_lexer": "ipython3",
   "version": "3.5.2"
  },
  "name": "Zerlaut_et_al_JPhysiol_2016.ipynb"
 },
 "nbformat": 4,
 "nbformat_minor": 0
}
