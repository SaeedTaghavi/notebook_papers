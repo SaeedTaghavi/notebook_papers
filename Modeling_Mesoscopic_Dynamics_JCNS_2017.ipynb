{
 "cells": [
  {
   "cell_type": "markdown",
   "metadata": {
    "ein.tags": "worksheet-0",
    "slideshow": {
     "slide_type": "-"
    }
   },
   "source": [
    "# Abstract"
   ]
  },
  {
   "cell_type": "markdown",
   "metadata": {
    "ein.tags": "worksheet-0",
    "slideshow": {
     "slide_type": "-"
    }
   },
   "source": [
    "Voltage-sensitive dye imaging (VSDi) has revealed fundamental properties of neocortical processing at macroscopic scales. Since for each pixel VSDi signals report the average membrane potential over hundreds of neurons, it seems natural to use a mean-field formalism to model such signals. Here, we present a mean-field model of networks of Adaptive Exponential (AdEx) integrate-and-fire neurons, with conductance-based synaptic interactions. We study a network of regular-spiking (RS) excitatory neurons and fast-spiking (FS) inhibitory neurons. We use a Master Equation formalism, together with a semi-analytic approach to the transfer function of AdEx neurons to describe the average dynamics of the coupled populations. We compare the predictions of this mean-field model to simulated networks of RS-FS cells, first at the level of the spontaneous activity of the network, which is well predicted by the analytical description. Second, we investigate the response of the network to time-varying external input, and show that the mean-field model predicts the response time course of the population. Finally, to model VSDi signals, we consider a one-dimensional ring model made of interconnected RS-FS mean-field units. We found that this model can reproduce the spatio-temporal patterns seen in VSDi of awake monkey visual cortex as a response to local and transient visual stimuli. Conversely, we show that the model allows one to infer physiological parameters from the experimentally-recorded spatio-temporal patterns."
   ]
  },
  {
   "cell_type": "code",
   "execution_count": 6,
   "metadata": {
    "autoscroll": false,
    "collapsed": false,
    "ein.tags": "worksheet-0",
    "slideshow": {
     "slide_type": "-"
    }
   },
   "outputs": [],
   "source": [
    "\"\"\"\n",
    "Empty notebook, proper version will be uploaded after acceptance\n",
    "\"\"\"\n",
    "%matplotlib inline\n",
    "\n",
    "# the code is in the \"modeling_mesoscopic_dynamics\" folder\n",
    "import modeling_mesoscopic_dynamics"
   ]
  },
  {
   "cell_type": "markdown",
   "metadata": {
    "ein.tags": "worksheet-0",
    "slideshow": {
     "slide_type": "-"
    }
   },
   "source": [
    "### Transfer Functions of Single Cell Models (within a given network setting)"
   ]
  },
  {
   "cell_type": "markdown",
   "metadata": {
    "ein.tags": "worksheet-0",
    "slideshow": {
     "slide_type": "-"
    }
   },
   "source": [
    "Here, we build up the description of the single cell computation within the mean-field formalism"
   ]
  },
  {
   "cell_type": "markdown",
   "metadata": {
    "ein.tags": "worksheet-0",
    "slideshow": {
     "slide_type": "-"
    }
   },
   "source": [
    "#### Excitatory cells: RS cells"
   ]
  },
  {
   "cell_type": "code",
   "execution_count": 2,
   "metadata": {
    "autoscroll": false,
    "collapsed": false,
    "ein.tags": "worksheet-0",
    "slideshow": {
     "slide_type": "-"
    }
   },
   "outputs": [
    {
     "name": "stdout",
     "output_type": "stream",
     "text": [
      "cell parameters --NOT-- in SI units\n",
      "{'delta_v': 2.0, 'name': 'RS-cell', 'Vreset': -65.0, 'b': 20.0, 'N': 1, 'Vthre': -50.0, 'Cm': 200.0, 'Gl': 10.0, 'a': 4.0, 'El': -65.0, 'tauw': 500.0, 'Trefrac': 5.0}\n"
     ]
    }
   ],
   "source": [
    "# the parameters are written within a library of neuron parameters\n",
    "from modeling_mesoscopic_dynamics.single_cell_models.cell_library import get_neuron_params\n",
    "RS_params = get_neuron_params('RS-cell', name='RS-cell', SI_units=False)\n",
    "print(RS_params)"
   ]
  },
  {
   "cell_type": "code",
   "execution_count": 3,
   "metadata": {
    "autoscroll": false,
    "collapsed": false,
    "ein.tags": "worksheet-0",
    "slideshow": {
     "slide_type": "-"
    }
   },
   "outputs": [
    {
     "name": "stdout",
     "output_type": "stream",
     "text": [
      "cell parameters in SI units\n"
     ]
    },
    {
     "data": {
      "text/plain": [
       "<matplotlib.figure.Figure at 0x1060d0ac8>"
      ]
     },
     "metadata": {},
     "output_type": "display_data"
    }
   ],
   "source": [
    "# plotting the responses to current steps\n",
    "from modeling_mesoscopic_dynamics.single_cell_models.step_response import make_model_figure\n",
    "make_model_figure('RS-cell', I0=200e-12);"
   ]
  },
  {
   "cell_type": "code",
   "execution_count": 10,
   "metadata": {
    "autoscroll": false,
    "collapsed": false,
    "ein.tags": "worksheet-0",
    "slideshow": {
     "slide_type": "-"
    }
   },
   "outputs": [
    {
     "name": "stdout",
     "output_type": "stream",
     "text": [
      "cell parameters in SI units\r\n",
      "synaptic network parameters in SI units\r\n"
     ]
    },
    {
     "name": "stdout",
     "output_type": "stream",
     "text": [
      "numerical TF data saved in : data/RS-cell_CONFIG1.npy\r\n"
     ]
    }
   ],
   "source": [
    "# Now making the numerical simulations at various levels of both excitatory and inhibitory inputs\n",
    "# note the rescaling of the excitatory input to insure that the response remains in the <30 range: it focuses on low range when inhibition is low and on a larger range when inhibition is larger\n",
    "SEED, tstop, discret_Fe, discret_Fi = 3, 2, 3, 3 # for testing\n",
    "SEED, tstop, discret_Fe, discret_Fi = 4, 10, 10, 10 # paper's value\n",
    "!(python modeling_mesoscopic_dynamics/transfer_functions/tf_simulation.py RS-cell CONFIG1 -s --SEED $SEED --tstop $tstop --discret_Fe $discret_Fe  --discret_Fi $discret_Fi --max_Fe 30)"
   ]
  },
  {
   "cell_type": "code",
   "execution_count": 1,
   "metadata": {
    "autoscroll": false,
    "collapsed": false,
    "ein.tags": "worksheet-0",
    "slideshow": {
     "slide_type": "-"
    }
   },
   "outputs": [
    {
     "name": "stdout",
     "output_type": "stream",
     "text": [
      "Optimization terminated successfully.    (Exit mode 0)\n",
      "            Current function value: 7.33631085882e-08\n",
      "            Iterations: 9\n",
      "            Function evaluations: 120\n",
      "            Gradient evaluations: 9"
     ]
    },
    {
     "name": "stdout",
     "output_type": "stream",
     "text": [
      "\n",
      "Optimization terminated successfully.\n",
      "         Current function value: 0.041754\n",
      "         Iterations: 1087\n",
      "         Function evaluations: 1541\n",
      "==================================================\n",
      "[-54.7150805    7.64453782  -4.62722888   1.71283147  -0.10710902\n",
      "   0.72054481  -2.00463685   0.11756368   5.61325855  -0.99436164\n",
      "  -2.87604362] mV\n",
      "coefficients saved in  data/RS-cell_CONFIG1_fit.npy\n"
     ]
    }
   ],
   "source": [
    "from modeling_mesoscopic_dynamics.transfer_functions.theoretical_tools import make_fit_from_data\n",
    "P_RS = make_fit_from_data('data/RS-cell_CONFIG1.npy', with_square_terms=True, verbose=False)"
   ]
  },
  {
   "cell_type": "code",
   "execution_count": 2,
   "metadata": {
    "autoscroll": false,
    "collapsed": false,
    "ein.tags": "worksheet-0",
    "slideshow": {
     "slide_type": "-"
    }
   },
   "outputs": [
    {
     "data": {
      "text/plain": [
       "<matplotlib.figure.Figure at 0x1057bcdd8>"
      ]
     },
     "metadata": {},
     "output_type": "display_data"
    }
   ],
   "source": [
    "# now displaying the numerical values and the analytical function\n",
    "from modeling_mesoscopic_dynamics.transfer_functions.plots import make_exc_inh_fig\n",
    "make_exc_inh_fig('data/RS-cell_CONFIG1.npy', P=P_RS)"
   ]
  },
  {
   "cell_type": "markdown",
   "metadata": {
    "ein.tags": "worksheet-0",
    "slideshow": {
     "slide_type": "-"
    }
   },
   "source": [
    "#### Inhibitory cells: FS-cells"
   ]
  },
  {
   "cell_type": "code",
   "execution_count": 3,
   "metadata": {
    "autoscroll": false,
    "collapsed": false,
    "ein.tags": "worksheet-0",
    "slideshow": {
     "slide_type": "-"
    }
   },
   "outputs": [
    {
     "name": "stdout",
     "output_type": "stream",
     "text": [
      "cell parameters --NOT-- in SI units\n",
      "{'Vthre': -50.0, 'a': 0.0, 'El': -65.0, 'Trefrac': 5.0, 'name': 'FS-cell', 'Vreset': -65.0, 'Gl': 10.0, 'N': 1, 'delta_v': 0.5, 'tauw': 1000000000.0, 'b': 0.0, 'Cm': 200.0}\n"
     ]
    }
   ],
   "source": [
    "# the parameters are written within a library of neuron parameters\n",
    "from modeling_mesoscopic_dynamics.single_cell_models.cell_library import get_neuron_params\n",
    "FS_params = get_neuron_params('FS-cell', name='FS-cell', SI_units=False)\n",
    "print(FS_params)"
   ]
  },
  {
   "cell_type": "code",
   "execution_count": 3,
   "metadata": {
    "autoscroll": false,
    "collapsed": false,
    "ein.tags": "worksheet-0",
    "slideshow": {
     "slide_type": "-"
    }
   },
   "outputs": [
    {
     "name": "stdout",
     "output_type": "stream",
     "text": [
      "cell parameters in SI units\n"
     ]
    },
    {
     "data": {
      "text/plain": [
       "<matplotlib.figure.Figure at 0x10136cf60>"
      ]
     },
     "metadata": {},
     "output_type": "display_data"
    }
   ],
   "source": [
    "# plotting the responses to current steps\n",
    "from modeling_mesoscopic_dynamics.single_cell_models.step_response import make_model_figure\n",
    "make_model_figure('FS-cell', I0=200e-12);"
   ]
  },
  {
   "cell_type": "code",
   "execution_count": null,
   "metadata": {
    "autoscroll": false,
    "collapsed": false,
    "ein.tags": "worksheet-0",
    "slideshow": {
     "slide_type": "-"
    }
   },
   "outputs": [],
   "source": [
    "# Now making the numerical simulations at various levels of both excitatory and inhibitory inputs\n",
    "# note the rescaling of the excitatory input to insure that the response remains in the <30 range: it focuses on low range when inhibition is low and on a larger range when inhibition is larger\n",
    "SEED, tstop, discret_Fe, discret_Fi = 3, 2, 3, 3 # for testing\n",
    "SEED, tstop, discret_Fe, discret_Fi = 4, 10, 10, 10 # paper's value\n",
    "!(python modeling_mesoscopic_dynamics/transfer_functions/tf_simulation.py FS-cell CONFIG1 -s --SEED $SEED --tstop $tstop --discret_Fe $discret_Fe  --discret_Fi $discret_Fi --max_Fe 30)"
   ]
  },
  {
   "cell_type": "code",
   "execution_count": 5,
   "metadata": {
    "autoscroll": false,
    "collapsed": false,
    "ein.tags": "worksheet-0",
    "slideshow": {
     "slide_type": "-"
    }
   },
   "outputs": [
    {
     "name": "stdout",
     "output_type": "stream",
     "text": [
      "Optimization terminated successfully.    (Exit mode 0)\n",
      "            Current function value: 7.65356746695e-08\n",
      "            Iterations: 7\n",
      "            Function evaluations: 92\n",
      "            Gradient evaluations: 7\n",
      "Optimization terminated successfully.\n",
      "         Current function value: 0.190404\n",
      "         Iterations: 731\n",
      "         Function evaluations: 1043\n",
      "==================================================\n",
      "[ -5.46160664e+01   4.58415750e+00  -1.77303201e+00   6.64785219e-01\n",
      "  -3.00637490e-01   3.93520293e-01  -5.14454957e-01  -6.39186948e-03\n",
      "  -1.39021341e+00  -4.85663596e-01  -3.63617754e-01] mV\n",
      "coefficients saved in  data/FS-cell_CONFIG1_fit.npy\n"
     ]
    }
   ],
   "source": [
    "from modeling_mesoscopic_dynamics.transfer_functions.theoretical_tools import make_fit_from_data\n",
    "P_FS = make_fit_from_data('data/FS-cell_CONFIG1.npy', with_square_terms=True, verbose=False)"
   ]
  },
  {
   "cell_type": "code",
   "execution_count": 6,
   "metadata": {
    "autoscroll": false,
    "collapsed": false,
    "ein.tags": "worksheet-0",
    "slideshow": {
     "slide_type": "-"
    }
   },
   "outputs": [
    {
     "data": {
      "text/plain": [
       "<matplotlib.figure.Figure at 0x10c00b0f0>"
      ]
     },
     "metadata": {},
     "output_type": "display_data"
    }
   ],
   "source": [
    "# now displaying the numerical values and the analytical function\n",
    "from modeling_mesoscopic_dynamics.transfer_functions.plots import make_exc_inh_fig\n",
    "make_exc_inh_fig('data/FS-cell_CONFIG1.npy', P=P_FS)"
   ]
  },
  {
   "cell_type": "code",
   "execution_count": 6,
   "metadata": {
    "autoscroll": false,
    "collapsed": false,
    "ein.tags": "worksheet-0",
    "slideshow": {
     "slide_type": "-"
    }
   },
   "outputs": [
    {
     "name": "stdout",
     "output_type": "stream",
     "text": [
      "synaptic network parameters --NOT-- in SI units\n",
      "[[ {'name': 'ee', 'ext_drive': 4.0, 'Ntot': 10000, 'Q': 1.0, 'p_conn': 0.05, 'Erev': 0.0, 'gei': 0.2, 'afferent_exc_fraction': 1.0, 'Tsyn': 5.0}\n",
      "  {'name': 'ei', 'Tsyn': 5.0, 'Q': 1.0, 'p_conn': 0.05, 'Erev': 0.0}]\n",
      " [{'name': 'ie', 'Tsyn': 5.0, 'Q': 5.0, 'p_conn': 0.05, 'Erev': -80.0}\n",
      "  {'name': 'ii', 'Tsyn': 5.0, 'Q': 5.0, 'p_conn': 0.05, 'Erev': -80.0}]]\n"
     ]
    }
   ],
   "source": [
    "# Note that we also used the network parameters because it requires the synaptic properties (number of synapses)\n",
    "# they are stored in the following module\n",
    "from modeling_mesoscopic_dynamics.synapses_and_connectivity.syn_and_connec_library import get_connectivity_and_synapses_matrix\n",
    "print(get_connectivity_and_synapses_matrix('CONFIG1'))"
   ]
  },
  {
   "cell_type": "markdown",
   "metadata": {
    "ein.tags": "worksheet-0",
    "slideshow": {
     "slide_type": "-"
    }
   },
   "source": [
    "### Network dynamics: numerical simulations vs mean-field"
   ]
  },
  {
   "cell_type": "markdown",
   "metadata": {
    "ein.tags": "worksheet-0",
    "slideshow": {
     "slide_type": "-"
    }
   },
   "source": [
    "#### Stationary dynamics"
   ]
  },
  {
   "cell_type": "markdown",
   "metadata": {
    "ein.tags": "worksheet-0",
    "slideshow": {
     "slide_type": "-"
    }
   },
   "source": [
    "performing the numerical simulation with the Brian2 package !\n",
    "see http://brian2.readthedocs.io/"
   ]
  },
  {
   "cell_type": "code",
   "execution_count": 9,
   "metadata": {
    "autoscroll": false,
    "collapsed": false,
    "ein.tags": "worksheet-0",
    "slideshow": {
     "slide_type": "-"
    }
   },
   "outputs": [
    {
     "name": "stdout",
     "output_type": "stream",
     "text": [
      "synaptic network parameters --NOT-- in SI units\r\n",
      "cell parameters --NOT-- in SI units\r\n"
     ]
    },
    {
     "name": "stdout",
     "output_type": "stream",
     "text": [
      "\r\n",
      "        dV/dt = (10.000000*nS*(-65.000000*mV - V) + 10.000000*nS*2.000000*mV*exp(-(-50.000000*mV-V)/(2.000000*mV)) + I - w_adapt)/(200.000000*pF) : volt (unless refractory) \r\n",
      "        dw_adapt/dt = ( -4.000000*nS*( -65.000000*mV - V) - w_adapt )/(500.000000*ms) : amp  \r\n",
      "        I = I0 +Gee*(0.000000*mV - V)+Gie*(-80.000000*mV - V) : amp\r\n",
      "        dGee/dt = -Gee*(1./(5.000000*ms)) : siemens\r\n",
      "        dGie/dt = -Gie*(1./(5.000000*ms)) : siemens\r\n",
      "        I0 : amp \r\n",
      "cell parameters --NOT-- in SI units\r\n",
      "\r\n",
      "        dV/dt = (10.000000*nS*(-65.000000*mV - V) + 10.000000*nS*0.500000*mV*exp(-(-50.000000*mV-V)/(0.500000*mV)) + I - w_adapt)/(200.000000*pF) : volt (unless refractory) \r\n",
      "        dw_adapt/dt = ( -0.000000*nS*( -65.000000*mV - V) - w_adapt )/(1000000000.000000*ms) : amp  \r\n",
      "        I = I0 +Gei*(0.000000*mV - V)+Gii*(-80.000000*mV - V) : amp\r\n",
      "        dGei/dt = -Gei*(1./(5.000000*ms)) : siemens\r\n",
      "        dGii/dt = -Gii*(1./(5.000000*ms)) : siemens\r\n",
      "        I0 : amp \r\n"
     ]
    },
    {
     "name": "stdout",
     "output_type": "stream",
     "text": [
      "INFO       No numerical integration method specified for group 'neurongroup_1', using method 'euler' (took 0.06s, trying other methods took 0.18s). [brian2.stateupdaters.base.method_choice]\r\n"
     ]
    },
    {
     "name": "stdout",
     "output_type": "stream",
     "text": [
      "INFO       No numerical integration method specified for group 'neurongroup', using method 'euler' (took 0.03s, trying other methods took 0.17s). [brian2.stateupdaters.base.method_choice]\r\n"
     ]
    }
   ],
   "source": [
    "!(python modeling_mesoscopic_dynamics/network_simulations/ntwk_sim_demo.py --CONFIG RS-cell--FS-cell--CONFIG1 -f data/config1.py)"
   ]
  },
  {
   "cell_type": "code",
   "execution_count": 1,
   "metadata": {
    "autoscroll": false,
    "collapsed": false,
    "ein.tags": "worksheet-0",
    "slideshow": {
     "slide_type": "-"
    }
   },
   "outputs": [
    {
     "data": {
      "text/plain": [
       "<matplotlib.figure.Figure at 0x10740bcf8>"
      ]
     },
     "metadata": {},
     "output_type": "display_data"
    },
    {
     "data": {
      "text/plain": [
       "<matplotlib.figure.Figure at 0x107185eb8>"
      ]
     },
     "metadata": {},
     "output_type": "display_data"
    },
    {
     "data": {
      "text/plain": [
       "<matplotlib.figure.Figure at 0x107031320>"
      ]
     },
     "metadata": {},
     "output_type": "display_data"
    },
    {
     "data": {
      "text/plain": [
       "<matplotlib.figure.Figure at 0x1060bbcf8>"
      ]
     },
     "metadata": {},
     "output_type": "display_data"
    }
   ],
   "source": [
    "# showing the ouput of the simulations\n",
    "%matplotlib inline\n",
    "from modeling_mesoscopic_dynamics.network_simulations.plot_single_sim import plot_ntwk_sim_output\n",
    "DATA = np.load('data/config1.npy')\n",
    "%matplotlib inline\n",
    "AX, FIG = plot_ntwk_sim_output(*DATA,\\\n",
    "                               zoom_conditions=[0,1000], bar_ms=100,\\\n",
    "                               raster_number=500)"
   ]
  },
  {
   "cell_type": "code",
   "execution_count": 2,
   "metadata": {
    "autoscroll": false,
    "collapsed": false,
    "ein.tags": "worksheet-0",
    "slideshow": {
     "slide_type": "-"
    }
   },
   "outputs": [
    {
     "data": {
      "text/plain": [
       "<matplotlib.figure.Figure at 0x1106226a0>"
      ]
     },
     "metadata": {},
     "output_type": "display_data"
    },
    {
     "data": {
      "text/plain": [
       "<matplotlib.figure.Figure at 0x10e24eba8>"
      ]
     },
     "metadata": {},
     "output_type": "display_data"
    },
    {
     "data": {
      "text/plain": [
       "<matplotlib.figure.Figure at 0x10e3f0f28>"
      ]
     },
     "metadata": {},
     "output_type": "display_data"
    },
    {
     "name": "stdout",
     "output_type": "stream",
     "text": [
      "Make sure that those two values are similar !!\n",
      "[ 2.42134221  9.62763885  0.09698788  0.11677506  0.25238966]\n",
      "[ 2.42134221  9.62763885  0.09698788  0.11677506  0.25238966]\n",
      "[ 2.42134221  9.62763885  0.09698788  0.11677506  0.25238966]\n",
      "first order prediction:  0.252389662129\n",
      "end fixed point\n"
     ]
    },
    {
     "name": "stdout",
     "output_type": "stream",
     "text": [
      "cell parameters in SI units\n",
      "synaptic network parameters in SI units\n",
      "starting fixed point\n",
      "synaptic network parameters in SI units\n",
      "cell parameters in SI units\n",
      "cell parameters in SI units\n",
      "first order prediction:  [ 2.41797829  9.6031657 ]\n",
      "synaptic network parameters in SI units\n",
      "cell parameters in SI units\n",
      "cell parameters in SI units\n"
     ]
    }
   ],
   "source": [
    "# now comparing the simulation with the mean-field\n",
    "from modeling_mesoscopic_dynamics.network_simulations.compare_with_mean_field import plot_ntwk_sim_output\n",
    "FIG = plot_ntwk_sim_output(*DATA, min_time=500) # we discard the initial 500ms to evaluate the dynamics\n",
    "# the fixed point of the mean field is found by launching a trajectory\n",
    "# of the mean-field dynamical system and taking the point of convergence\n",
    "# see modeling_mesoscopic_dynamics/mean_field"
   ]
  },
  {
   "cell_type": "markdown",
   "metadata": {
    "ein.tags": "worksheet-0",
    "slideshow": {
     "slide_type": "-"
    }
   },
   "source": [
    "#### Time-varying dynamics"
   ]
  },
  {
   "cell_type": "code",
   "execution_count": 8,
   "metadata": {
    "autoscroll": false,
    "collapsed": false,
    "ein.tags": "worksheet-0",
    "slideshow": {
     "slide_type": "-"
    }
   },
   "outputs": [
    {
     "name": "stdout",
     "output_type": "stream",
     "text": [
      "INFO       No numerical integration method specified for group 'neurongroup', using method 'euler' (took 0.03s, trying other methods took 0.16s). [brian2.stateupdaters.base.method_choice]\r\n"
     ]
    },
    {
     "name": "stdout",
     "output_type": "stream",
     "text": [
      "INFO       No numerical integration method specified for group 'neurongroup_1', using method 'euler' (took 0.05s, trying other methods took 0.17s). [brian2.stateupdaters.base.method_choice]\r\n"
     ]
    },
    {
     "name": "stdout",
     "output_type": "stream",
     "text": [
      "\r\n",
      "        dV/dt = (10.000000*nS*(-65.000000*mV - V) + 10.000000*nS*2.000000*mV*exp(-(-50.000000*mV-V)/(2.000000*mV)) + I - w_adapt)/(200.000000*pF) : volt (unless refractory) \r\n",
      "        dw_adapt/dt = ( -4.000000*nS*( -65.000000*mV - V) - w_adapt )/(500.000000*ms) : amp  \r\n",
      "        I = I0 +Gee*(0.000000*mV - V)+Gie*(-80.000000*mV - V) : amp\r\n",
      "        dGee/dt = -Gee*(1./(5.000000*ms)) : siemens\r\n",
      "        dGie/dt = -Gie*(1./(5.000000*ms)) : siemens\r\n",
      "        I0 : amp \r\n",
      "cell parameters --NOT-- in SI units\r\n",
      "\r\n",
      "        dV/dt = (10.000000*nS*(-65.000000*mV - V) + 10.000000*nS*0.500000*mV*exp(-(-50.000000*mV-V)/(0.500000*mV)) + I - w_adapt)/(200.000000*pF) : volt (unless refractory) \r\n",
      "        dw_adapt/dt = ( -0.000000*nS*( -65.000000*mV - V) - w_adapt )/(1000000000.000000*ms) : amp  \r\n",
      "        I = I0 +Gei*(0.000000*mV - V)+Gii*(-80.000000*mV - V) : amp\r\n",
      "        dGei/dt = -Gei*(1./(5.000000*ms)) : siemens\r\n",
      "        dGii/dt = -Gii*(1./(5.000000*ms)) : siemens\r\n",
      "        I0 : amp \r\n"
     ]
    },
    {
     "name": "stdout",
     "output_type": "stream",
     "text": [
      "synaptic network parameters --NOT-- in SI units\r\n",
      "synaptic network parameters --NOT-- in SI units\r\n",
      "cell parameters --NOT-- in SI units\r\n"
     ]
    }
   ],
   "source": [
    "# running simulation\n",
    "!(python modeling_mesoscopic_dynamics/network_simulations/waveform_input.py --CONFIG RS-cell--FS-cell--CONFIG1 -f data/waveform.npy --sim)"
   ]
  },
  {
   "cell_type": "code",
   "execution_count": 18,
   "metadata": {
    "autoscroll": false,
    "collapsed": false,
    "ein.tags": "worksheet-0",
    "slideshow": {
     "slide_type": "-"
    }
   },
   "outputs": [
    {
     "data": {
      "text/plain": [
       "<matplotlib.figure.Figure at 0x1071104e0>"
      ]
     },
     "metadata": {},
     "output_type": "display_data"
    },
    {
     "data": {
      "text/plain": [
       "<matplotlib.figure.Figure at 0x11418eba8>"
      ]
     },
     "metadata": {},
     "output_type": "display_data"
    },
    {
     "data": {
      "text/plain": [
       "<matplotlib.figure.Figure at 0x1140abe10>"
      ]
     },
     "metadata": {},
     "output_type": "display_data"
    },
    {
     "data": {
      "text/plain": [
       "<matplotlib.figure.Figure at 0x113b44278>"
      ]
     },
     "metadata": {},
     "output_type": "display_data"
    },
    {
     "ename": "TypeError",
     "evalue": "slice indices must be integers or None or have an __index__ method",
     "output_type": "error",
     "traceback": [
      "\u001b[0;31m---------------------------------------------------------------------------\u001b[0m",
      "\u001b[0;31mTypeError\u001b[0m                                 Traceback (most recent call last)",
      "\u001b[0;32m/Users/yzerlaut/work/notebook_papers/modeling_mesoscopic_dynamics/network_simulations/waveform_input.py\u001b[0m in \u001b[0;36m<module>\u001b[0;34m()\u001b[0m\n\u001b[1;32m     96\u001b[0m         FIGS = plot_ntwk_sim_output_for_waveform(args,\n\u001b[1;32m     97\u001b[0m                                        \u001b[0mzoom_conditions\u001b[0m\u001b[0;34m=\u001b[0m\u001b[0;34m[\u001b[0m\u001b[0margs\u001b[0m\u001b[0;34m.\u001b[0m\u001b[0mt0\u001b[0m\u001b[0;34m-\u001b[0m\u001b[0;36m5\u001b[0m\u001b[0;34m*\u001b[0m\u001b[0margs\u001b[0m\u001b[0;34m.\u001b[0m\u001b[0mT1\u001b[0m\u001b[0;34m,\u001b[0m \u001b[0margs\u001b[0m\u001b[0;34m.\u001b[0m\u001b[0mtstop\u001b[0m\u001b[0;34m]\u001b[0m\u001b[0;34m,\u001b[0m\u001b[0;31m\\\u001b[0m\u001b[0;34m\u001b[0m\u001b[0m\n\u001b[0;32m---> 98\u001b[0;31m                                        raster_number=400)\n\u001b[0m\u001b[1;32m     99\u001b[0m \u001b[0;34m\u001b[0m\u001b[0m\n\u001b[1;32m    100\u001b[0m         \u001b[0mplt\u001b[0m\u001b[0;34m.\u001b[0m\u001b[0mshow\u001b[0m\u001b[0;34m(\u001b[0m\u001b[0;34m)\u001b[0m\u001b[0;34m\u001b[0m\u001b[0m\n",
      "\u001b[0;32m/Users/yzerlaut/work/notebook_papers/modeling_mesoscopic_dynamics/network_simulations/compare_with_mean_field.py\u001b[0m in \u001b[0;36mplot_ntwk_sim_output_for_waveform\u001b[0;34m(args, BIN, min_time, bar_ms, zoom_conditions, vpeak, raster_number)\u001b[0m\n\u001b[1;32m    277\u001b[0m     \u001b[0mFIGS\u001b[0m\u001b[0;34m.\u001b[0m\u001b[0mappend\u001b[0m\u001b[0;34m(\u001b[0m\u001b[0mfig\u001b[0m\u001b[0;34m)\u001b[0m\u001b[0;34m\u001b[0m\u001b[0m\n\u001b[1;32m    278\u001b[0m \u001b[0;34m\u001b[0m\u001b[0m\n\u001b[0;32m--> 279\u001b[0;31m     \u001b[0mprint\u001b[0m\u001b[0;34m(\u001b[0m\u001b[0;34m'excitatory rate: '\u001b[0m\u001b[0;34m,\u001b[0m \u001b[0mrate_exc\u001b[0m\u001b[0;34m[\u001b[0m\u001b[0mlen\u001b[0m\u001b[0;34m(\u001b[0m\u001b[0mrate_exc\u001b[0m\u001b[0;34m)\u001b[0m\u001b[0;34m/\u001b[0m\u001b[0;36m2\u001b[0m\u001b[0;34m:\u001b[0m\u001b[0;34m]\u001b[0m\u001b[0;34m.\u001b[0m\u001b[0mmean\u001b[0m\u001b[0;34m(\u001b[0m\u001b[0;34m)\u001b[0m\u001b[0;34m,\u001b[0m \u001b[0;34m'Hz'\u001b[0m\u001b[0;34m)\u001b[0m\u001b[0;34m\u001b[0m\u001b[0m\n\u001b[0m\u001b[1;32m    280\u001b[0m     \u001b[0mprint\u001b[0m\u001b[0;34m(\u001b[0m\u001b[0;34m'inhibitory rate: '\u001b[0m\u001b[0;34m,\u001b[0m \u001b[0mrate_inh\u001b[0m\u001b[0;34m[\u001b[0m\u001b[0mlen\u001b[0m\u001b[0;34m(\u001b[0m\u001b[0mrate_exc\u001b[0m\u001b[0;34m)\u001b[0m\u001b[0;34m/\u001b[0m\u001b[0;36m2\u001b[0m\u001b[0;34m:\u001b[0m\u001b[0;34m]\u001b[0m\u001b[0;34m.\u001b[0m\u001b[0mmean\u001b[0m\u001b[0;34m(\u001b[0m\u001b[0;34m)\u001b[0m\u001b[0;34m,\u001b[0m \u001b[0;34m'Hz'\u001b[0m\u001b[0;34m)\u001b[0m\u001b[0;34m\u001b[0m\u001b[0m\n\u001b[1;32m    281\u001b[0m     \u001b[0mprint\u001b[0m\u001b[0;34m(\u001b[0m\u001b[0msfe\u001b[0m\u001b[0;34m[\u001b[0m\u001b[0;36m0\u001b[0m\u001b[0;34m]\u001b[0m\u001b[0;34m,\u001b[0m \u001b[0msfe\u001b[0m\u001b[0;34m[\u001b[0m\u001b[0;34m-\u001b[0m\u001b[0;36m1\u001b[0m\u001b[0;34m]\u001b[0m\u001b[0;34m)\u001b[0m\u001b[0;34m\u001b[0m\u001b[0m\n",
      "\u001b[0;31mTypeError\u001b[0m: slice indices must be integers or None or have an __index__ method"
     ]
    },
    {
     "name": "stdout",
     "output_type": "stream",
     "text": [
      "\n",
      "synaptic network parameters in SI units\n",
      "cell parameters in SI units\n",
      "cell parameters in SI units\n",
      "cell parameters in SI units\n",
      "synaptic network parameters in SI units\n"
     ]
    },
    {
     "name": "stdout",
     "output_type": "stream",
     "text": [
      "Make sure that those two values are similar !!\n",
      "[ 2.42134221  9.62763885  0.09698788  0.11677506  0.25238966]\n",
      "[ 2.42134221  9.62763885  0.09698788  0.11677506  0.25238966]\n",
      "[ 2.42134221  9.62763885  0.09698788  0.11677506  0.25238966]\n",
      "first order prediction:  0.252389662129"
     ]
    },
    {
     "name": "stdout",
     "output_type": "stream",
     "text": [
      "synaptic network parameters in SI units\n",
      "synaptic network parameters in SI units\n",
      "cell parameters in SI units\n",
      "cell parameters in SI units\n",
      "first order prediction:  [ 2.41797829  9.6031657 ]\n",
      "synaptic network parameters in SI units\n",
      "cell parameters in SI units\n",
      "cell parameters in SI units\n"
     ]
    }
   ],
   "source": [
    "# comparing with the time-varying mean-field\n",
    "# again the dynamical system is implemented in modeling_mesoscopic_dynamics/mean_field\n",
    "%run modeling_mesoscopic_dynamics/network_simulations/waveform_input.py --CONFIG RS-cell--FS-cell--CONFIG1 -f data/waveform.npy"
   ]
  },
  {
   "cell_type": "code",
   "execution_count": null,
   "metadata": {
    "autoscroll": false,
    "collapsed": false,
    "ein.tags": "worksheet-0",
    "slideshow": {
     "slide_type": "-"
    }
   },
   "outputs": [],
   "source": [
    "from modeling_mesoscopic_dynamics.network_simulations.compare_with_mean_field import plot_ntwk_sim_output_for_waveform\n",
    "FIGS = plot_ntwk_sim_output_for_waveform(args,\n",
    "                                         zoom_conditions=[args.t0-5*args.T1, args.tstop],\\\n",
    "                                         raster_number=400)\n"
   ]
  },
  {
   "cell_type": "code",
   "execution_count": 15,
   "metadata": {
    "autoscroll": false,
    "collapsed": false,
    "ein.tags": "worksheet-0",
    "slideshow": {
     "slide_type": "-"
    }
   },
   "outputs": [
    {
     "ename": "SystemExit",
     "evalue": "2",
     "output_type": "error",
     "traceback": [
      "An exception has occurred, use %tb to see the full traceback.\n",
      "\u001b[0;31mSystemExit\u001b[0m\u001b[0;31m:\u001b[0m 2\n"
     ]
    },
    {
     "name": "stderr",
     "output_type": "stream",
     "text": [
      "WARNING    /Users/yzerlaut/anaconda/lib/python3.5/site-packages/IPython/core/interactiveshell.py:2889: UserWarning: To exit: use 'exit', 'quit', or Ctrl-D.\n",
      "  warn(\"To exit: use 'exit', 'quit', or Ctrl-D.\", stacklevel=1)\n",
      " [py.warnings]\n"
     ]
    },
    {
     "ename": "SystemExit",
     "evalue": "2",
     "output_type": "error",
     "traceback": [
      "An exception has occurred, use %tb to see the full traceback.\n",
      "\u001b[0;31mSystemExit\u001b[0m\u001b[0;31m:\u001b[0m 2\n"
     ]
    },
    {
     "name": "stderr",
     "output_type": "stream",
     "text": [
      "usage: __main__.py [-h]\n",
      "__main__.py: error: unrecognized arguments: -f /Users/yzerlaut/Library/Jupyter/runtime/kernel-954ec13e-77e3-408d-a6b3-f4645197221b.json\n"
     ]
    }
   ],
   "source": [
    "import argparse\n",
    "parser=argparse.ArgumentParser()\n",
    "args = parser.parse_args()"
   ]
  },
  {
   "cell_type": "code",
   "execution_count": 17,
   "metadata": {
    "autoscroll": false,
    "collapsed": false,
    "ein.tags": "worksheet-0",
    "slideshow": {
     "slide_type": "-"
    }
   },
   "outputs": [
    {
     "ename": "SyntaxError",
     "evalue": "invalid syntax (<ipython-input-17-6ad10307c343>, line 1)",
     "output_type": "error",
     "traceback": [
      "\u001b[0;36m  File \u001b[0;32m\"<ipython-input-17-6ad10307c343>\"\u001b[0;36m, line \u001b[0;32m1\u001b[0m\n\u001b[0;31m    args.\u001b[0m\n\u001b[0m         ^\u001b[0m\n\u001b[0;31mSyntaxError\u001b[0m\u001b[0;31m:\u001b[0m invalid syntax\n"
     ]
    }
   ],
   "source": [
    "args"
   ]
  },
  {
   "cell_type": "code",
   "execution_count": 7,
   "metadata": {
    "autoscroll": false,
    "collapsed": false,
    "ein.tags": "worksheet-0",
    "slideshow": {
     "slide_type": "-"
    }
   },
   "outputs": [
    {
     "name": "stdout",
     "output_type": "stream",
     "text": [
      "2pop_with_AffExc.svg           RS-cell_CONFIG1.npy\r\n",
      "2pop_with_AffExc_andDsInh.svg  RS-cell_CONFIG1_fit.npy\r\n",
      "\u001b[31mFS-cell_CONFIG1.npy\u001b[m\u001b[m*           _\r\n",
      "FS-cell_CONFIG1_fit.npy        config1.npy\r\n"
     ]
    }
   ],
   "source": [
    "ls data"
   ]
  }
 ],
 "metadata": {
  "kernelspec": {
   "display_name": "Python [Root]",
   "name": "Python [Root]"
  },
  "language_info": {
   "codemirror_mode": {
    "name": "ipython",
    "version": 3
   },
   "file_extension": ".py",
   "mimetype": "text/x-python",
   "name": "python",
   "nbconvert_exporter": "python",
   "pygments_lexer": "ipython3",
   "version": "3.5.2"
  },
  "name": "Modeling_Mesoscopic_Dynamics_JCNS_2017.ipynb"
 },
 "nbformat": 4,
 "nbformat_minor": 0
}
